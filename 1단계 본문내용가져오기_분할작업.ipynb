{
 "cells": [
  {
   "cell_type": "markdown",
   "metadata": {
    "ExecuteTime": {
     "end_time": "2020-04-03T04:41:51.962213Z",
     "start_time": "2020-04-03T04:41:51.960213Z"
    }
   },
   "source": [
    "# 셀레니움으로 자료 가져오기\n",
    "* chrome 웹드라이버설치 [설치사이트]( https://chromedriver.chromium.org/downloads)\n",
    "* 셀레니움참고 [참고사이트](https://galid1.tistory.com/478)"
   ]
  },
  {
   "cell_type": "code",
   "execution_count": 1,
   "metadata": {
    "ExecuteTime": {
     "end_time": "2020-05-08T02:28:44.597698Z",
     "start_time": "2020-05-08T02:28:44.595696Z"
    },
    "code_folding": [],
    "scrolled": true
   },
   "outputs": [],
   "source": [
    "# #선행설치\n",
    "# !pip install selenium"
   ]
  },
  {
   "cell_type": "code",
   "execution_count": 2,
   "metadata": {
    "ExecuteTime": {
     "end_time": "2020-05-08T02:28:46.129419Z",
     "start_time": "2020-05-08T02:28:44.906766Z"
    }
   },
   "outputs": [],
   "source": [
    "from selenium import webdriver\n",
    "from selenium.webdriver.common.keys import Keys\n",
    "from selenium.webdriver.support.ui import WebDriverWait\n",
    "from selenium.webdriver.chrome.options import Options\n",
    "\n",
    "import time\n",
    "\n",
    "import pandas as pd\n",
    "import numpy as np\n",
    "\n",
    "import os"
   ]
  },
  {
   "cell_type": "markdown",
   "metadata": {},
   "source": [
    "# 본문내용긁어오기"
   ]
  },
  {
   "cell_type": "code",
   "execution_count": 3,
   "metadata": {
    "ExecuteTime": {
     "end_time": "2020-05-08T02:28:47.140420Z",
     "start_time": "2020-05-08T02:28:47.130487Z"
    },
    "code_folding": [
     0
    ]
   },
   "outputs": [],
   "source": [
    "#저장위치\n",
    "final_dict = dict()\n",
    "final_dict['ho'] = []\n",
    "final_dict['dates'] = []\n",
    "final_dict['category'] = []\n",
    "final_dict['city'] = []\n",
    "final_dict['title'] = []\n",
    "final_dict['contents'] = []\n",
    "\n",
    "def get_contents():    \n",
    "    '''\n",
    "    '호'를 누르고 난 다음 내부의 본문들을 클릭하여 들어감 \n",
    "    '''\n",
    "    try :\n",
    "        for j in range(2,100): #최대길이는 50으로 추정되나 100으로 두어도 무리없을것으로 보임 \n",
    "            one_title = driver.find_element_by_xpath('//*[@id=\"container_suite\"]/div[4]/div/div/ul/li[{num}]/div[1]/h2/a'.format(num =j))\n",
    "            one_title.click()\n",
    "\n",
    "            article_xpath = driver.find_element_by_xpath('//*[@id=\"center\"]/article')\n",
    "\n",
    "            #facebook, Twitter의 위치가 계속 변동되어 지우고 위치지정\n",
    "            article = article_xpath.text.split('\\n')\n",
    "            article.remove('Facebook')\n",
    "            article.remove('Twitter')\n",
    "\n",
    "            #추출\n",
    "            title = article[0]\n",
    "            dates = article[2]\n",
    "            ho = article[6]\n",
    "            category = article[8]\n",
    "            contents = article[9:-1]\n",
    "\n",
    "            city = title.split(\" \")[-1]\n",
    "            if ')' in city:\n",
    "                city = city.replace('(',\"\").replace(')',\"\")\n",
    "            else :\n",
    "                city = np.nan\n",
    "\n",
    "            #저장 \n",
    "            final_dict.get('dates',0).append(dates)\n",
    "            final_dict.get('ho',0).append(ho)\n",
    "            final_dict.get('category',0).append(category)\n",
    "            final_dict.get('city',0).append(city)\n",
    "            final_dict.get('title',0).append(title)\n",
    "            final_dict.get('contents',0).append(contents)\n",
    "\n",
    "            #뒤로가기\n",
    "            time.sleep(0.5)\n",
    "            driver.back()\n",
    "    \n",
    "    except Exception as e:\n",
    "        pass \n"
   ]
  },
  {
   "cell_type": "code",
   "execution_count": 4,
   "metadata": {
    "ExecuteTime": {
     "end_time": "2020-05-08T02:28:51.863190Z",
     "start_time": "2020-05-08T02:28:51.859199Z"
    },
    "code_folding": []
   },
   "outputs": [],
   "source": [
    "def save_reset():\n",
    "    \n",
    "    global final_dict\n",
    "    #csv 저장\n",
    "    final_df = pd.DataFrame(final_dict)\n",
    "\n",
    "    last_ho = final_df.ho.iloc[0]\n",
    "    first_ho = final_df.ho.iloc[-1]\n",
    "\n",
    "    final_df.to_csv('./result/All_document({f}-{l}).csv'.format(f = first_ho, l = last_ho))\n",
    "    \n",
    "    #변수초기화\n",
    "    final_dict = dict()\n",
    "    final_dict['ho'] = []\n",
    "    final_dict['dates'] = []\n",
    "    final_dict['category'] = []\n",
    "    final_dict['city'] = []\n",
    "    final_dict['title'] = []\n",
    "    final_dict['contents'] = []"
   ]
  },
  {
   "cell_type": "markdown",
   "metadata": {},
   "source": [
    "### 특정페이지 범위작업(분할작업) "
   ]
  },
  {
   "cell_type": "code",
   "execution_count": null,
   "metadata": {},
   "outputs": [],
   "source": [
    "#전체 진행 (오류나면서 끝나는것이 맞다)\n",
    "os.chdir('D:/Python/SDI 셀레니움/')\n",
    "options = Options()\n",
    "# chrome을 전체화면으로/ headless\n",
    "options.add_argument('--start-maximized')\n",
    "options.add_argument('--headless')\n",
    "driver = webdriver.Chrome(executable_path='./chromedriver', chrome_options=options)\n",
    "\n",
    "#사이트이동 원하는 페이지를 적어서 이동가능\n",
    "for num in range(2, 10):\n",
    "    driver.get('https://www.si.re.kr/world_trends/22383?paged={page_num}'.format(page_num = num))\n",
    "    time.sleep(2)\n",
    "    #1페이지 내 다운로드 \n",
    "    try :\n",
    "        for i in range(1,11):\n",
    "            #처음페이지는 9개인데 이후 10개씩\n",
    "            ho = driver.find_element_by_xpath('//*[@id=\"container_suite\"]/div[3]/ul/li[{num}]/a'.format(num = i))\n",
    "            ho.click()\n",
    "            time.sleep(1)\n",
    "            get_contents()\n",
    "        save_reset()\n",
    "    except :\n",
    "        pass\n",
    "driver.quit()"
   ]
  },
  {
   "cell_type": "code",
   "execution_count": null,
   "metadata": {},
   "outputs": [],
   "source": []
  }
 ],
 "metadata": {
  "kernelspec": {
   "display_name": "Python 3",
   "language": "python",
   "name": "python3"
  },
  "language_info": {
   "codemirror_mode": {
    "name": "ipython",
    "version": 3
   },
   "file_extension": ".py",
   "mimetype": "text/x-python",
   "name": "python",
   "nbconvert_exporter": "python",
   "pygments_lexer": "ipython3",
   "version": "3.6.5"
  },
  "varInspector": {
   "cols": {
    "lenName": 16,
    "lenType": 16,
    "lenVar": 40
   },
   "kernels_config": {
    "python": {
     "delete_cmd_postfix": "",
     "delete_cmd_prefix": "del ",
     "library": "var_list.py",
     "varRefreshCmd": "print(var_dic_list())"
    },
    "r": {
     "delete_cmd_postfix": ") ",
     "delete_cmd_prefix": "rm(",
     "library": "var_list.r",
     "varRefreshCmd": "cat(var_dic_list()) "
    }
   },
   "types_to_exclude": [
    "module",
    "function",
    "builtin_function_or_method",
    "instance",
    "_Feature"
   ],
   "window_display": false
  }
 },
 "nbformat": 4,
 "nbformat_minor": 2
}
