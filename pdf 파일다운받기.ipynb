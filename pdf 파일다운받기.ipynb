{
 "cells": [
  {
   "cell_type": "markdown",
   "metadata": {
    "ExecuteTime": {
     "end_time": "2020-04-03T04:41:51.962213Z",
     "start_time": "2020-04-03T04:41:51.960213Z"
    }
   },
   "source": [
    "# 셀레니움으로 자료 가져오기\n",
    "* chrome 웹드라이버설치 [설치사이트]( https://chromedriver.chromium.org/downloads)\n",
    "* 셀레니움참고 [참고사이트](https://galid1.tistory.com/478)"
   ]
  },
  {
   "cell_type": "code",
   "execution_count": 2,
   "metadata": {
    "ExecuteTime": {
     "end_time": "2020-04-08T00:11:47.244962Z",
     "start_time": "2020-04-08T00:11:47.243961Z"
    },
    "code_folding": [
     0
    ],
    "scrolled": true
   },
   "outputs": [],
   "source": [
    "# #선행설치\n",
    "# !pip install selenium\n",
    "\n",
    "# !conda install -c conda-forge poppler #pdftotext 선행설치\n",
    "# !pip install pdftotext"
   ]
  },
  {
   "cell_type": "code",
   "execution_count": 1,
   "metadata": {
    "ExecuteTime": {
     "end_time": "2020-05-06T00:11:53.820113Z",
     "start_time": "2020-05-06T00:11:51.941459Z"
    }
   },
   "outputs": [],
   "source": [
    "from selenium import webdriver\n",
    "from selenium.webdriver.common.keys import Keys\n",
    "from selenium.webdriver.support.ui import WebDriverWait\n",
    "from selenium.webdriver.chrome.options import Options\n",
    "\n",
    "import time\n",
    "import pdftotext # pdf 읽는용도\n",
    "import pikepdf #lock걸려있는 pdf해제\n",
    "import fitz # PyMuPDF\n",
    "\n",
    "import pandas as pd\n",
    "import numpy as np\n",
    "\n",
    "import os\n",
    "import re"
   ]
  },
  {
   "cell_type": "markdown",
   "metadata": {},
   "source": [
    "# 파일다운받기"
   ]
  },
  {
   "cell_type": "code",
   "execution_count": 11,
   "metadata": {
    "ExecuteTime": {
     "end_time": "2020-04-23T01:55:13.635430Z",
     "start_time": "2020-04-23T01:54:19.795355Z"
    },
    "code_folding": []
   },
   "outputs": [
    {
     "name": "stderr",
     "output_type": "stream",
     "text": [
      "C:\\Users\\User\\Anaconda3\\lib\\site-packages\\ipykernel_launcher.py:7: DeprecationWarning: use options instead of chrome_options\n",
      "  import sys\n"
     ]
    },
    {
     "ename": "KeyboardInterrupt",
     "evalue": "",
     "output_type": "error",
     "traceback": [
      "\u001b[1;31m---------------------------------------------------------------------------\u001b[0m",
      "\u001b[1;31mKeyboardInterrupt\u001b[0m                         Traceback (most recent call last)",
      "\u001b[1;32m<ipython-input-11-76e5535c2e2b>\u001b[0m in \u001b[0;36m<module>\u001b[1;34m()\u001b[0m\n\u001b[0;32m     25\u001b[0m     \u001b[0mwonmon\u001b[0m \u001b[1;33m=\u001b[0m \u001b[0mdriver\u001b[0m\u001b[1;33m.\u001b[0m\u001b[0mfind_element_by_xpath\u001b[0m\u001b[1;33m(\u001b[0m\u001b[1;34m'//*[@id=\"container_suite\"]/div[4]/div/div/ul/li[1]/div[5]/div/a'\u001b[0m\u001b[1;33m)\u001b[0m\u001b[1;33m\u001b[0m\u001b[0m\n\u001b[0;32m     26\u001b[0m     \u001b[0mwonmon\u001b[0m\u001b[1;33m.\u001b[0m\u001b[0mclick\u001b[0m\u001b[1;33m(\u001b[0m\u001b[1;33m)\u001b[0m\u001b[1;33m\u001b[0m\u001b[0m\n\u001b[1;32m---> 27\u001b[1;33m     \u001b[0mtime\u001b[0m\u001b[1;33m.\u001b[0m\u001b[0msleep\u001b[0m\u001b[1;33m(\u001b[0m\u001b[1;36m2\u001b[0m\u001b[1;33m)\u001b[0m\u001b[1;33m\u001b[0m\u001b[0m\n\u001b[0m\u001b[0;32m     28\u001b[0m \u001b[1;33m\u001b[0m\u001b[0m\n\u001b[0;32m     29\u001b[0m \u001b[1;31m#2페이지로 넘어가는게 아래의 숫자와 같고 9가 반복됨 (원인은 숫자가 계속 밀리기 때문)\u001b[0m\u001b[1;33m\u001b[0m\u001b[1;33m\u001b[0m\u001b[0m\n",
      "\u001b[1;31mKeyboardInterrupt\u001b[0m: "
     ]
    }
   ],
   "source": [
    "#다운받은후 생략가능\n",
    "options = Options()\n",
    "# chrome을 전체화면으로 넓히는 옵션입니다.\n",
    "options.add_argument('--start-maximized')\n",
    "# options.headless = True\n",
    "\n",
    "driver = webdriver.Chrome(executable_path='./chromedriver', chrome_options=options)\n",
    "\n",
    "#사이트이동\n",
    "driver.get('http://www.sdi.re.kr')\n",
    "time.sleep(2)\n",
    "\n",
    "#세계도시동향 클릭\n",
    "donghyang = driver.find_element_by_xpath('//*[@id=\"block-system-main-menu\"]/div/ul/li[2]/a')\n",
    "donghyang.click()\n",
    "time.sleep(2)\n",
    "\n",
    "#1페이지 내 다운로드 \n",
    "for i in range(1,10):\n",
    "    #처음페이지는 9개인데 이후 10개씩\n",
    "    ho = driver.find_element_by_xpath('//*[@id=\"container_suite\"]/div[3]/ul/li[{num}]/a'.format(num = i))\n",
    "    ho.click()\n",
    "    time.sleep(2)\n",
    "    #원문\n",
    "    wonmon = driver.find_element_by_xpath('//*[@id=\"container_suite\"]/div[4]/div/div/ul/li[1]/div[5]/div/a')\n",
    "    wonmon.click()\n",
    "    time.sleep(2)\n",
    "\n",
    "#2페이지로 넘어가는게 아래의 숫자와 같고 9가 반복됨 (원인은 숫자가 계속 밀리기 때문)\n",
    "#해당페이지는 2,3,4,5,6,7,\n",
    "for page_num in [2,5,6,7,8,9]:\n",
    "# for page_num in [2]:\n",
    "    next_page = driver.find_element_by_xpath('//*[@id=\"container_suite\"]/div[5]/ul/li[{page_num}]/a'.format(page_num = page_num))\n",
    "    next_page.click()\n",
    "    time.sleep(2)\n",
    "    for i in range(1,11):\n",
    "    #처음페이지는 9개인데 이후 10개씩\n",
    "        ho = driver.find_element_by_xpath('//*[@id=\"container_suite\"]/div[3]/ul/li[{num}]/a'.format(num = i))\n",
    "        ho.click()\n",
    "        time.sleep(2)\n",
    "        #원문\n",
    "        wonmon = driver.find_element_by_xpath('//*[@id=\"container_suite\"]/div[4]/div/div/ul/li[1]/div[5]/div/a')\n",
    "        wonmon.click()\n",
    "        time.sleep(2)\n",
    "while True:\n",
    "    try:\n",
    "        #이후반복\n",
    "        while True:\n",
    "            next_page = driver.find_element_by_xpath('//*[@id=\"container_suite\"]/div[5]/ul/li[9]/a')\n",
    "            next_page.click()\n",
    "            driver.implicitly_wait(10)\n",
    "            for i in range(1,11):\n",
    "            #처음페이지는 9개인데 이후 10개씩\n",
    "                ho = driver.find_element_by_xpath('//*[@id=\"container_suite\"]/div[3]/ul/li[{num}]/a'.format(num = i))\n",
    "                ho.click()\n",
    "                time.sleep(2)\n",
    "                #원문\n",
    "                wonmon = driver.find_element_by_xpath('//*[@id=\"container_suite\"]/div[4]/div/div/ul/li[1]/div[5]/div/a')\n",
    "                wonmon.click()\n",
    "                time.sleep(2)\n",
    "    except:\n",
    "        #에러난 페이지 내 다운로드 \n",
    "        ho = driver.find_element_by_xpath('//*[@id=\"container_suite\"]/div[2]/ul/li[1]/a')\n",
    "        ho.click()\n",
    "        for i in range(1,11):\n",
    "            #처음페이지는 9개인데 이후 10개씩\n",
    "            ho = driver.find_element_by_xpath('//*[@id=\"container_suite\"]/div[3]/ul/li[{num}]/a'.format(num = i))\n",
    "            ho.click()\n",
    "            time.sleep(2)\n",
    "            #원문\n",
    "            wonmon = driver.find_element_by_xpath('//*[@id=\"container_suite\"]/div[4]/div/div/ul/li[1]/div[5]/div/a')\n",
    "            wonmon.click()\n",
    "            time.sleep(2)"
   ]
  },
  {
   "cell_type": "markdown",
   "metadata": {},
   "source": [
    "# 파일정리\n",
    "* 숫자부터 나오게끔 앞에 문자제거 -> ex 111호"
   ]
  },
  {
   "cell_type": "code",
   "execution_count": 14,
   "metadata": {
    "ExecuteTime": {
     "end_time": "2020-04-23T02:41:43.496753Z",
     "start_time": "2020-04-23T02:41:43.493762Z"
    }
   },
   "outputs": [],
   "source": [
    "os.chdir('D:/Python/SDI 셀레니움/SDI 리포트')\n",
    "file_list = os.listdir()"
   ]
  },
  {
   "cell_type": "code",
   "execution_count": null,
   "metadata": {
    "ExecuteTime": {
     "end_time": "2020-04-23T01:51:52.983572Z",
     "start_time": "2020-04-23T01:51:44.877Z"
    }
   },
   "outputs": [],
   "source": [
    "pattern = re.compile('[A-z가-힣- ]+')\n",
    "for file_name in file_list:\n",
    "    try :\n",
    "        del_text = re.match(pattern,file_name).group()\n",
    "        new_name = file_name.replace(del_text,'')\n",
    "        os.rename(file_name,new_name)          \n",
    "    except: \n",
    "        pass"
   ]
  },
  {
   "cell_type": "code",
   "execution_count": null,
   "metadata": {},
   "outputs": [],
   "source": []
  }
 ],
 "metadata": {
  "kernelspec": {
   "display_name": "Python 3",
   "language": "python",
   "name": "python3"
  },
  "language_info": {
   "codemirror_mode": {
    "name": "ipython",
    "version": 3
   },
   "file_extension": ".py",
   "mimetype": "text/x-python",
   "name": "python",
   "nbconvert_exporter": "python",
   "pygments_lexer": "ipython3",
   "version": "3.6.5"
  },
  "varInspector": {
   "cols": {
    "lenName": 16,
    "lenType": 16,
    "lenVar": 40
   },
   "kernels_config": {
    "python": {
     "delete_cmd_postfix": "",
     "delete_cmd_prefix": "del ",
     "library": "var_list.py",
     "varRefreshCmd": "print(var_dic_list())"
    },
    "r": {
     "delete_cmd_postfix": ") ",
     "delete_cmd_prefix": "rm(",
     "library": "var_list.r",
     "varRefreshCmd": "cat(var_dic_list()) "
    }
   },
   "types_to_exclude": [
    "module",
    "function",
    "builtin_function_or_method",
    "instance",
    "_Feature"
   ],
   "window_display": false
  }
 },
 "nbformat": 4,
 "nbformat_minor": 2
}
