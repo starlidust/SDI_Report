{
 "cells": [
  {
   "cell_type": "code",
   "execution_count": 19,
   "metadata": {
    "ExecuteTime": {
     "end_time": "2020-05-11T00:17:53.938481Z",
     "start_time": "2020-05-11T00:17:53.921792Z"
    }
   },
   "outputs": [],
   "source": [
    "import os\n",
    "import pandas as pd\n",
    "import numpy as np"
   ]
  },
  {
   "cell_type": "code",
   "execution_count": 20,
   "metadata": {
    "ExecuteTime": {
     "end_time": "2020-05-11T00:17:54.196771Z",
     "start_time": "2020-05-11T00:17:54.194771Z"
    }
   },
   "outputs": [],
   "source": [
    "path = './result/'\n",
    "file_list = os.listdir(path)"
   ]
  },
  {
   "cell_type": "code",
   "execution_count": 21,
   "metadata": {
    "ExecuteTime": {
     "end_time": "2020-05-11T00:17:54.429823Z",
     "start_time": "2020-05-11T00:17:54.425822Z"
    }
   },
   "outputs": [],
   "source": [
    "#이상치 체크 6개이상 20개 미만 (중복제거전)\n",
    "def check_error(file_name,df):\n",
    "    counted = df.ho.value_counts()\n",
    "    indexes = counted.index[counted.apply(lambda x : (x<6))].values\n",
    "    print(file_name,\"gap:\",df.shape[0]-df.drop_duplicates(['ho','title']).shape[0]) #gap으로 중복여부확인\n",
    "    if len(indexes)>0:\n",
    "        print('이상치추가됨',indexes)\n",
    "        error_list.append(indexes)"
   ]
  },
  {
   "cell_type": "code",
   "execution_count": 22,
   "metadata": {
    "ExecuteTime": {
     "end_time": "2020-05-11T00:17:55.730145Z",
     "start_time": "2020-05-11T00:17:54.624867Z"
    }
   },
   "outputs": [
    {
     "name": "stdout",
     "output_type": "stream",
     "text": [
      "All_document(제01호-제475호).csv gap: 137\n",
      "이상치추가됨 ['제473호' '제469호']\n",
      "All_document(제02호-제11호).csv gap: 0\n",
      "All_document(제101호-제92호).csv gap: 0\n",
      "All_document(제102호-제111호).csv gap: 0\n",
      "All_document(제111호-제102호).csv gap: 0\n",
      "All_document(제112호-제121호).csv gap: 0\n",
      "All_document(제121호-제112호).csv gap: 0\n",
      "All_document(제122호-제131호).csv gap: 0\n",
      "All_document(제12호-제21호).csv gap: 0\n",
      "All_document(제131호-제122호).csv gap: 0\n",
      "All_document(제132호-제149호).csv gap: 0\n",
      "All_document(제141호-제132호).csv gap: 0\n",
      "All_document(제149호-제142호).csv gap: 0\n",
      "All_document(제150호-제159호).csv gap: 0\n",
      "All_document(제159호-제150호).csv gap: 0\n",
      "All_document(제160호-제169호).csv gap: 0\n",
      "All_document(제169호-제160호).csv gap: 0\n",
      "All_document(제170호-제149호).csv gap: 0\n",
      "All_document(제170호-제179호).csv gap: 0\n",
      "All_document(제179호-제170호).csv gap: 0\n",
      "All_document(제180호-제189호).csv gap: 0\n",
      "All_document(제189호-제180호).csv gap: 0\n",
      "All_document(제190호-제199호).csv gap: 0\n",
      "All_document(제199호-제190호).csv gap: 0\n",
      "All_document(제200호-제208호).csv gap: 0\n",
      "All_document(제208호-제200호).csv gap: 0\n",
      "All_document(제209호-제218호).csv gap: 24\n",
      "All_document(제218호-제209호).csv gap: 13\n",
      "All_document(제219호-제228호).csv gap: 0\n",
      "All_document(제228호-제219호).csv gap: 0\n",
      "All_document(제229호-제247호).csv gap: 0\n",
      "All_document(제22호-제31호).csv gap: 0\n",
      "All_document(제238호-제229호).csv gap: 0\n",
      "All_document(제247호-제239호) (2).csv gap: 0\n",
      "All_document(제247호-제239호).csv gap: 0\n",
      "All_document(제248호-제257호).csv gap: 0\n",
      "All_document(제257호-제248호) (2).csv gap: 0\n",
      "All_document(제257호-제248호).csv gap: 0\n",
      "All_document(제258호-제267호).csv gap: 0\n",
      "All_document(제267호-제258호) (2).csv gap: 0\n",
      "All_document(제267호-제258호).csv gap: 0\n",
      "All_document(제268호-제247호).csv gap: 0\n",
      "All_document(제268호-제276호).csv gap: 0\n",
      "All_document(제276호-제268호) (2).csv gap: 0\n",
      "All_document(제276호-제268호).csv gap: 0\n",
      "All_document(제278호-제287호).csv gap: 0\n",
      "All_document(제287호-제278호).csv gap: 0\n",
      "All_document(제288호-제297호).csv gap: 0\n",
      "All_document(제297호-제288호).csv gap: 0\n",
      "All_document(제298호-제307호).csv gap: 0\n",
      "All_document(제307호-제298호).csv gap: 0\n",
      "All_document(제308호-제317호).csv gap: 12\n",
      "All_document(제317호-제308호).csv gap: 12\n",
      "All_document(제318호-제327호).csv gap: 9\n",
      "All_document(제327호-제318호).csv gap: 9\n",
      "All_document(제328호-제346호).csv gap: 2\n",
      "All_document(제32호-제41호).csv gap: 0\n",
      "All_document(제337호-제328호).csv gap: 2\n",
      "All_document(제346호-제338호).csv gap: 0\n",
      "All_document(제347호-제356호).csv gap: 0\n",
      "All_document(제356호-제347호).csv gap: 0\n",
      "All_document(제357호-제366호).csv gap: 1\n",
      "All_document(제366호-제357호).csv gap: 1\n",
      "All_document(제367호-제346호).csv gap: 0\n",
      "All_document(제367호-제376호).csv gap: 0\n",
      "All_document(제376호-제367호).csv gap: 0\n",
      "All_document(제377호-제386호).csv gap: 0\n",
      "All_document(제386호-제377호).csv gap: 0\n",
      "All_document(제387호-제396호).csv gap: 0\n",
      "All_document(제396호-제387호).csv gap: 0\n",
      "All_document(제397호-제406호).csv gap: 0\n",
      "All_document(제407호-제416호).csv gap: 1\n",
      "All_document(제417호-제426호).csv gap: 0\n",
      "All_document(제427호-제436호).csv gap: 0\n",
      "All_document(제42호-제51호).csv gap: 0\n",
      "All_document(제437호-제446호).csv gap: 0\n",
      "All_document(제447호-제456호).csv gap: 0\n",
      "All_document(제457호-제436호).csv gap: 71\n",
      "이상치추가됨 ['제435호']\n",
      "All_document(제457호-제466호).csv gap: 0\n",
      "All_document(제475호-제397호).csv gap: 1\n",
      "All_document(제52호-제61호).csv gap: 0\n",
      "All_document(제62호-제71호).csv gap: 0\n",
      "All_document(제72호-제81호).csv gap: 0\n",
      "All_document(제82호-제91호).csv gap: 0\n",
      "All_document(제91호-제02호).csv gap: 0\n",
      "All_document(제91호-제82호).csv gap: 0\n",
      "All_document(제92호-제101호).csv gap: 0\n"
     ]
    }
   ],
   "source": [
    "error_list = []\n",
    "#처음\n",
    "one = pd.read_csv(path + file_list[0],index_col = 0)\n",
    "file_name = file_list[0]\n",
    "check_error(file_name,one)\n",
    "#이후\n",
    "for i in range(1,len(file_list)):\n",
    "    other = pd.read_csv(path + file_list[i],index_col = 0)\n",
    "    file_name = file_list[i]\n",
    "    check_error(file_name,other)\n",
    "    one = pd.concat([one,other])"
   ]
  },
  {
   "cell_type": "code",
   "execution_count": 31,
   "metadata": {
    "ExecuteTime": {
     "end_time": "2020-05-11T00:18:50.119774Z",
     "start_time": "2020-05-11T00:18:50.105742Z"
    }
   },
   "outputs": [],
   "source": [
    "one = one.drop_duplicates(['ho','title'])"
   ]
  },
  {
   "cell_type": "code",
   "execution_count": 32,
   "metadata": {
    "ExecuteTime": {
     "end_time": "2020-05-11T00:18:50.877828Z",
     "start_time": "2020-05-11T00:18:50.873836Z"
    }
   },
   "outputs": [
    {
     "data": {
      "text/plain": [
       "(6958, 6)"
      ]
     },
     "execution_count": 32,
     "metadata": {},
     "output_type": "execute_result"
    }
   ],
   "source": [
    "one.shape"
   ]
  },
  {
   "cell_type": "code",
   "execution_count": 40,
   "metadata": {
    "ExecuteTime": {
     "end_time": "2020-05-11T00:21:38.042141Z",
     "start_time": "2020-05-11T00:21:38.034148Z"
    }
   },
   "outputs": [
    {
     "data": {
      "text/plain": [
       "477"
      ]
     },
     "execution_count": 40,
     "metadata": {},
     "output_type": "execute_result"
    }
   ],
   "source": [
    "one = one.sort_values(['ho','dates'])\n",
    "one.ho.nunique()"
   ]
  },
  {
   "cell_type": "code",
   "execution_count": 41,
   "metadata": {
    "ExecuteTime": {
     "end_time": "2020-05-11T00:21:38.376826Z",
     "start_time": "2020-05-11T00:21:38.369825Z"
    }
   },
   "outputs": [
    {
     "data": {
      "text/html": [
       "<div>\n",
       "<style scoped>\n",
       "    .dataframe tbody tr th:only-of-type {\n",
       "        vertical-align: middle;\n",
       "    }\n",
       "\n",
       "    .dataframe tbody tr th {\n",
       "        vertical-align: top;\n",
       "    }\n",
       "\n",
       "    .dataframe thead th {\n",
       "        text-align: right;\n",
       "    }\n",
       "</style>\n",
       "<table border=\"1\" class=\"dataframe\">\n",
       "  <thead>\n",
       "    <tr style=\"text-align: right;\">\n",
       "      <th></th>\n",
       "      <th>ho</th>\n",
       "      <th>dates</th>\n",
       "      <th>category</th>\n",
       "      <th>city</th>\n",
       "      <th>title</th>\n",
       "      <th>contents</th>\n",
       "    </tr>\n",
       "  </thead>\n",
       "  <tbody>\n",
       "    <tr>\n",
       "      <td>138</td>\n",
       "      <td>제01호</td>\n",
       "      <td>2001.02.22</td>\n",
       "      <td>도시교통</td>\n",
       "      <td>시카고</td>\n",
       "      <td>자동차 운행등록비 인상 (시카고)</td>\n",
       "      <td>['미국 시카고시는 자동차 운행등록(the mandatory city passeng...</td>\n",
       "    </tr>\n",
       "    <tr>\n",
       "      <td>132</td>\n",
       "      <td>제01호</td>\n",
       "      <td>2001.02.22</td>\n",
       "      <td>복지/문화</td>\n",
       "      <td>神奈川縣</td>\n",
       "      <td>배회고령자 조기발견 시스템 구축 (일본 神奈川縣)</td>\n",
       "      <td>['일본 神奈川縣의 기초자치단체에서는 간이형 휴대전화를 사용하여 배회 고령자를 조기...</td>\n",
       "    </tr>\n",
       "    <tr>\n",
       "      <td>142</td>\n",
       "      <td>제01호</td>\n",
       "      <td>2001.02.22</td>\n",
       "      <td>행정/재정</td>\n",
       "      <td>동경</td>\n",
       "      <td>東京의 국제경쟁력 장애요인은 '공항 접근 불편, 비즈니스 고비용' (동경)</td>\n",
       "      <td>[\"동경도는 5월중 '東京都市白書 2000'을 발간했다. 이 백서에 따르면, 국제도...</td>\n",
       "    </tr>\n",
       "    <tr>\n",
       "      <td>141</td>\n",
       "      <td>제01호</td>\n",
       "      <td>2001.02.22</td>\n",
       "      <td>도시관리</td>\n",
       "      <td>샌프란시스코</td>\n",
       "      <td>살기 좋은 근린주구 건설을 위한 주민참여형 계획 수립 (샌프란시스코)</td>\n",
       "      <td>[\"현재 샌프란시스코는 쾌적한 지역사회 건설을 위한 주민참여형 근린주구 계획('Be...</td>\n",
       "    </tr>\n",
       "    <tr>\n",
       "      <td>140</td>\n",
       "      <td>제01호</td>\n",
       "      <td>2001.02.22</td>\n",
       "      <td>도시관리</td>\n",
       "      <td>NaN</td>\n",
       "      <td>고층건물 건축높이 규제에 대한 권고기준 마련</td>\n",
       "      <td>['런던의 고층건물은 과거 유럽의 선도적 도시로서뿐만 아니라 경제적 성공의 상징으로...</td>\n",
       "    </tr>\n",
       "  </tbody>\n",
       "</table>\n",
       "</div>"
      ],
      "text/plain": [
       "       ho       dates category    city  \\\n",
       "138  제01호  2001.02.22     도시교통     시카고   \n",
       "132  제01호  2001.02.22    복지/문화    神奈川縣   \n",
       "142  제01호  2001.02.22    행정/재정      동경   \n",
       "141  제01호  2001.02.22     도시관리  샌프란시스코   \n",
       "140  제01호  2001.02.22     도시관리     NaN   \n",
       "\n",
       "                                         title  \\\n",
       "138                         자동차 운행등록비 인상 (시카고)   \n",
       "132                배회고령자 조기발견 시스템 구축 (일본 神奈川縣)   \n",
       "142  東京의 국제경쟁력 장애요인은 '공항 접근 불편, 비즈니스 고비용' (동경)   \n",
       "141     살기 좋은 근린주구 건설을 위한 주민참여형 계획 수립 (샌프란시스코)   \n",
       "140                   고층건물 건축높이 규제에 대한 권고기준 마련   \n",
       "\n",
       "                                              contents  \n",
       "138  ['미국 시카고시는 자동차 운행등록(the mandatory city passeng...  \n",
       "132  ['일본 神奈川縣의 기초자치단체에서는 간이형 휴대전화를 사용하여 배회 고령자를 조기...  \n",
       "142  [\"동경도는 5월중 '東京都市白書 2000'을 발간했다. 이 백서에 따르면, 국제도...  \n",
       "141  [\"현재 샌프란시스코는 쾌적한 지역사회 건설을 위한 주민참여형 근린주구 계획('Be...  \n",
       "140  ['런던의 고층건물은 과거 유럽의 선도적 도시로서뿐만 아니라 경제적 성공의 상징으로...  "
      ]
     },
     "execution_count": 41,
     "metadata": {},
     "output_type": "execute_result"
    }
   ],
   "source": [
    "one.head()"
   ]
  },
  {
   "cell_type": "code",
   "execution_count": 42,
   "metadata": {
    "ExecuteTime": {
     "end_time": "2020-05-11T00:21:42.587752Z",
     "start_time": "2020-05-11T00:21:42.425208Z"
    }
   },
   "outputs": [],
   "source": [
    "#저장\n",
    "one.to_csv('All_document_final.csv',index = False)"
   ]
  },
  {
   "cell_type": "code",
   "execution_count": 43,
   "metadata": {
    "ExecuteTime": {
     "end_time": "2020-05-11T00:21:43.694638Z",
     "start_time": "2020-05-11T00:21:43.689511Z"
    }
   },
   "outputs": [
    {
     "data": {
      "text/plain": [
       "제206호 특집      34\n",
       "제146호 문화특집    34\n",
       "제166호         31\n",
       "제160호         30\n",
       "제174호         29\n",
       "              ..\n",
       "제469호          6\n",
       "제416호          6\n",
       "제470호          6\n",
       "제454호          6\n",
       "제382호          6\n",
       "Name: ho, Length: 477, dtype: int64"
      ]
     },
     "execution_count": 43,
     "metadata": {},
     "output_type": "execute_result"
    }
   ],
   "source": [
    "one.ho.value_counts()"
   ]
  },
  {
   "cell_type": "code",
   "execution_count": 37,
   "metadata": {
    "ExecuteTime": {
     "end_time": "2020-05-11T00:19:07.380093Z",
     "start_time": "2020-05-11T00:19:07.371091Z"
    }
   },
   "outputs": [
    {
     "data": {
      "text/html": [
       "<div>\n",
       "<style scoped>\n",
       "    .dataframe tbody tr th:only-of-type {\n",
       "        vertical-align: middle;\n",
       "    }\n",
       "\n",
       "    .dataframe tbody tr th {\n",
       "        vertical-align: top;\n",
       "    }\n",
       "\n",
       "    .dataframe thead th {\n",
       "        text-align: right;\n",
       "    }\n",
       "</style>\n",
       "<table border=\"1\" class=\"dataframe\">\n",
       "  <thead>\n",
       "    <tr style=\"text-align: right;\">\n",
       "      <th></th>\n",
       "      <th>ho</th>\n",
       "      <th>dates</th>\n",
       "      <th>category</th>\n",
       "      <th>city</th>\n",
       "      <th>title</th>\n",
       "      <th>contents</th>\n",
       "    </tr>\n",
       "  </thead>\n",
       "  <tbody>\n",
       "    <tr>\n",
       "      <td>16</td>\n",
       "      <td>제435호</td>\n",
       "      <td>2018.07.20</td>\n",
       "      <td>도시교통</td>\n",
       "      <td>베를린市</td>\n",
       "      <td>다양한 이동수단 이용환경 조성 ‘모빌리티법’ 첫 시행 (독일 베를린市)</td>\n",
       "      <td>['독일 베를린市는 모든 사람이 도시의 다양한 이동수단을 공정하게 이용할 수 있는 ...</td>\n",
       "    </tr>\n",
       "    <tr>\n",
       "      <td>18</td>\n",
       "      <td>제435호</td>\n",
       "      <td>2018.07.20</td>\n",
       "      <td>도시계획/주택</td>\n",
       "      <td>오사카市</td>\n",
       "      <td>빈 시영주택, NPO 등 사회단체 활동근거지로 제공 (일본 오사카市)</td>\n",
       "      <td>['일본 오사카市는 고령자 비중이 높아지고 있는 시영주택 단지에서 고령자 생활지원,...</td>\n",
       "    </tr>\n",
       "    <tr>\n",
       "      <td>9</td>\n",
       "      <td>제435호</td>\n",
       "      <td>2018.07.20</td>\n",
       "      <td>헤드라인뉴스</td>\n",
       "      <td>멜버른市</td>\n",
       "      <td>도시설계 패러다임, 주거적합성 개선으로 (호주 멜버른市)</td>\n",
       "      <td>['호주 멜버른市는 차량을 우선하는 현행 도시설계 패러다임을 주거적합성 개선으로 전...</td>\n",
       "    </tr>\n",
       "    <tr>\n",
       "      <td>10</td>\n",
       "      <td>제435호</td>\n",
       "      <td>2018.07.20</td>\n",
       "      <td>산업/경제</td>\n",
       "      <td>베를린市</td>\n",
       "      <td>‘베를린 사물인터넷 허브’ 이전해 개관식 진행 (독일 베를린市)</td>\n",
       "      <td>['독일 연방정부는 자국 산업의 디지털 경쟁력 강화를 지원할 목적으로 전국에 12개...</td>\n",
       "    </tr>\n",
       "    <tr>\n",
       "      <td>11</td>\n",
       "      <td>제435호</td>\n",
       "      <td>2018.07.20</td>\n",
       "      <td>사회/복지</td>\n",
       "      <td>보르도市</td>\n",
       "      <td>기차역에 ‘노숙자 타깃’ 복지서비스 안내 터치스크린 (프랑스 보르도市)</td>\n",
       "      <td>['사회복지제도가 발달한 프랑스는 노숙자를 도울 시설은 부족하지 않지만, 노숙자가 ...</td>\n",
       "    </tr>\n",
       "    <tr>\n",
       "      <td>12</td>\n",
       "      <td>제435호</td>\n",
       "      <td>2018.07.20</td>\n",
       "      <td>행재정/교육</td>\n",
       "      <td>파리市</td>\n",
       "      <td>20개 구청과 협력해 시민참여형 도시정책 추진 (프랑스 파리市)</td>\n",
       "      <td>['프랑스 파리市는 시내 곳곳에 존재하는 서민지역 삶의 질 개선에 많은 노력을 기울...</td>\n",
       "    </tr>\n",
       "    <tr>\n",
       "      <td>17</td>\n",
       "      <td>제435호</td>\n",
       "      <td>2018.07.20</td>\n",
       "      <td>도시교통</td>\n",
       "      <td>런던市</td>\n",
       "      <td>전기차 주차·충전 인프라 확충해 보급 활성화 (영국 런던市)</td>\n",
       "      <td>['영국 런던市는 대기환경 개선 노력의 하나로 전기차 활성화 정책을 일관되게 시행해...</td>\n",
       "    </tr>\n",
       "    <tr>\n",
       "      <td>14</td>\n",
       "      <td>제435호</td>\n",
       "      <td>2018.07.20</td>\n",
       "      <td>환경/안전</td>\n",
       "      <td>토론토市</td>\n",
       "      <td>지역사회와 파트너십으로 도시재생 모델 구축 (캐나다 토론토市)</td>\n",
       "      <td>['캐나다 토론토市의 ‘에버그린 브릭웍스’(Evergreen Brick Works)...</td>\n",
       "    </tr>\n",
       "    <tr>\n",
       "      <td>15</td>\n",
       "      <td>제435호</td>\n",
       "      <td>2018.07.20</td>\n",
       "      <td>도시교통</td>\n",
       "      <td>로스앤젤레스市</td>\n",
       "      <td>‘100% 전기차로만 운영’ 차량공유 서비스 시동 (미국 로스앤젤레스市)</td>\n",
       "      <td>['미국 로스앤젤레스市 교통국은 온실가스 배출량을 낮추고 저소득층의 이동성 향상에 ...</td>\n",
       "    </tr>\n",
       "    <tr>\n",
       "      <td>19</td>\n",
       "      <td>제435호</td>\n",
       "      <td>2018.07.20</td>\n",
       "      <td>도시계획/주택</td>\n",
       "      <td>암스테르담市</td>\n",
       "      <td>젊은 신임교사에 임대주택 제공해 ‘교사난 타개’ (네덜란드 암스테르담市)</td>\n",
       "      <td>['교사부족 문제가 심각해지고 있는 네덜란드 암스테르담市는 신임교사의 정착에 가장 ...</td>\n",
       "    </tr>\n",
       "    <tr>\n",
       "      <td>13</td>\n",
       "      <td>제435호</td>\n",
       "      <td>2018.07.20</td>\n",
       "      <td>환경/안전</td>\n",
       "      <td>에드먼턴市</td>\n",
       "      <td>염소떼 이용한 친환경 방식으로 잡초 제거 (캐나다 에드먼턴市)</td>\n",
       "      <td>['캐나다 에드먼턴市는 외래침입종 유해잡초의 확산을 막기 위해 다방면으로 노력 중임...</td>\n",
       "    </tr>\n",
       "  </tbody>\n",
       "</table>\n",
       "</div>"
      ],
      "text/plain": [
       "       ho       dates category     city  \\\n",
       "16  제435호  2018.07.20     도시교통     베를린市   \n",
       "18  제435호  2018.07.20  도시계획/주택     오사카市   \n",
       "9   제435호  2018.07.20   헤드라인뉴스     멜버른市   \n",
       "10  제435호  2018.07.20    산업/경제     베를린市   \n",
       "11  제435호  2018.07.20    사회/복지     보르도市   \n",
       "12  제435호  2018.07.20   행재정/교육      파리市   \n",
       "17  제435호  2018.07.20     도시교통      런던市   \n",
       "14  제435호  2018.07.20    환경/안전     토론토市   \n",
       "15  제435호  2018.07.20     도시교통  로스앤젤레스市   \n",
       "19  제435호  2018.07.20  도시계획/주택   암스테르담市   \n",
       "13  제435호  2018.07.20    환경/안전    에드먼턴市   \n",
       "\n",
       "                                       title  \\\n",
       "16   다양한 이동수단 이용환경 조성 ‘모빌리티법’ 첫 시행 (독일 베를린市)   \n",
       "18    빈 시영주택, NPO 등 사회단체 활동근거지로 제공 (일본 오사카市)   \n",
       "9            도시설계 패러다임, 주거적합성 개선으로 (호주 멜버른市)   \n",
       "10       ‘베를린 사물인터넷 허브’ 이전해 개관식 진행 (독일 베를린市)   \n",
       "11   기차역에 ‘노숙자 타깃’ 복지서비스 안내 터치스크린 (프랑스 보르도市)   \n",
       "12       20개 구청과 협력해 시민참여형 도시정책 추진 (프랑스 파리市)   \n",
       "17         전기차 주차·충전 인프라 확충해 보급 활성화 (영국 런던市)   \n",
       "14        지역사회와 파트너십으로 도시재생 모델 구축 (캐나다 토론토市)   \n",
       "15  ‘100% 전기차로만 운영’ 차량공유 서비스 시동 (미국 로스앤젤레스市)   \n",
       "19  젊은 신임교사에 임대주택 제공해 ‘교사난 타개’ (네덜란드 암스테르담市)   \n",
       "13        염소떼 이용한 친환경 방식으로 잡초 제거 (캐나다 에드먼턴市)   \n",
       "\n",
       "                                             contents  \n",
       "16  ['독일 베를린市는 모든 사람이 도시의 다양한 이동수단을 공정하게 이용할 수 있는 ...  \n",
       "18  ['일본 오사카市는 고령자 비중이 높아지고 있는 시영주택 단지에서 고령자 생활지원,...  \n",
       "9   ['호주 멜버른市는 차량을 우선하는 현행 도시설계 패러다임을 주거적합성 개선으로 전...  \n",
       "10  ['독일 연방정부는 자국 산업의 디지털 경쟁력 강화를 지원할 목적으로 전국에 12개...  \n",
       "11  ['사회복지제도가 발달한 프랑스는 노숙자를 도울 시설은 부족하지 않지만, 노숙자가 ...  \n",
       "12  ['프랑스 파리市는 시내 곳곳에 존재하는 서민지역 삶의 질 개선에 많은 노력을 기울...  \n",
       "17  ['영국 런던市는 대기환경 개선 노력의 하나로 전기차 활성화 정책을 일관되게 시행해...  \n",
       "14  ['캐나다 토론토市의 ‘에버그린 브릭웍스’(Evergreen Brick Works)...  \n",
       "15  ['미국 로스앤젤레스市 교통국은 온실가스 배출량을 낮추고 저소득층의 이동성 향상에 ...  \n",
       "19  ['교사부족 문제가 심각해지고 있는 네덜란드 암스테르담市는 신임교사의 정착에 가장 ...  \n",
       "13  ['캐나다 에드먼턴市는 외래침입종 유해잡초의 확산을 막기 위해 다방면으로 노력 중임...  "
      ]
     },
     "execution_count": 37,
     "metadata": {},
     "output_type": "execute_result"
    }
   ],
   "source": [
    "one[one.ho == '제435호']"
   ]
  },
  {
   "cell_type": "code",
   "execution_count": null,
   "metadata": {},
   "outputs": [],
   "source": []
  }
 ],
 "metadata": {
  "kernelspec": {
   "display_name": "Python 3",
   "language": "python",
   "name": "python3"
  },
  "language_info": {
   "codemirror_mode": {
    "name": "ipython",
    "version": 3
   },
   "file_extension": ".py",
   "mimetype": "text/x-python",
   "name": "python",
   "nbconvert_exporter": "python",
   "pygments_lexer": "ipython3",
   "version": "3.6.5"
  },
  "varInspector": {
   "cols": {
    "lenName": 16,
    "lenType": 16,
    "lenVar": 40
   },
   "kernels_config": {
    "python": {
     "delete_cmd_postfix": "",
     "delete_cmd_prefix": "del ",
     "library": "var_list.py",
     "varRefreshCmd": "print(var_dic_list())"
    },
    "r": {
     "delete_cmd_postfix": ") ",
     "delete_cmd_prefix": "rm(",
     "library": "var_list.r",
     "varRefreshCmd": "cat(var_dic_list()) "
    }
   },
   "types_to_exclude": [
    "module",
    "function",
    "builtin_function_or_method",
    "instance",
    "_Feature"
   ],
   "window_display": false
  }
 },
 "nbformat": 4,
 "nbformat_minor": 2
}
