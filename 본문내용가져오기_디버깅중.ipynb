{
 "cells": [
  {
   "cell_type": "markdown",
   "metadata": {
    "ExecuteTime": {
     "end_time": "2020-04-03T04:41:51.962213Z",
     "start_time": "2020-04-03T04:41:51.960213Z"
    }
   },
   "source": [
    "# 셀레니움으로 자료 가져오기\n",
    "* chrome 웹드라이버설치 [설치사이트]( https://chromedriver.chromium.org/downloads)\n",
    "* 셀레니움참고 [참고사이트](https://galid1.tistory.com/478)"
   ]
  },
  {
   "cell_type": "code",
   "execution_count": 25,
   "metadata": {
    "ExecuteTime": {
     "end_time": "2020-05-06T04:52:12.813346Z",
     "start_time": "2020-05-06T04:52:12.810344Z"
    },
    "code_folding": [
     0
    ],
    "scrolled": true
   },
   "outputs": [],
   "source": [
    "# #선행설치\n",
    "# !pip install selenium\n"
   ]
  },
  {
   "cell_type": "code",
   "execution_count": 2,
   "metadata": {
    "ExecuteTime": {
     "end_time": "2020-05-07T00:06:20.120908Z",
     "start_time": "2020-05-07T00:06:19.089519Z"
    }
   },
   "outputs": [],
   "source": [
    "from selenium import webdriver\n",
    "from selenium.webdriver.common.keys import Keys\n",
    "from selenium.webdriver.support.ui import WebDriverWait\n",
    "from selenium.webdriver.chrome.options import Options\n",
    "\n",
    "import time\n",
    "import pdftotext # pdf 읽는용도\n",
    "import pikepdf #lock걸려있는 pdf해제\n",
    "import fitz # PyMuPDF\n",
    "\n",
    "import pandas as pd\n",
    "import numpy as np\n",
    "\n",
    "import os\n",
    "import re"
   ]
  },
  {
   "cell_type": "markdown",
   "metadata": {},
   "source": [
    "# 본문내용긁어오기"
   ]
  },
  {
   "cell_type": "code",
   "execution_count": 84,
   "metadata": {
    "ExecuteTime": {
     "end_time": "2020-05-07T04:46:43.813600Z",
     "start_time": "2020-05-07T04:46:43.808598Z"
    },
    "code_folding": []
   },
   "outputs": [],
   "source": [
    "#1회 사이클 이후 느려지는 경향이 있어 1회 약 10호 반복후 저장하는 형태로 변경 -> 다시 초기화(여기서하면 1ho씩 저장됨)\n",
    "\n",
    "#저장위치\n",
    "final_dict = dict()\n",
    "final_dict['ho'] = []\n",
    "final_dict['dates'] = []\n",
    "final_dict['category'] = []\n",
    "final_dict['city'] = []\n",
    "final_dict['title'] = []\n",
    "final_dict['contents'] = []\n",
    "\n",
    "def get_contents():    \n",
    "\n",
    "    try :\n",
    "        for j in range(2,30):\n",
    "            one_title = driver.find_element_by_xpath('//*[@id=\"container_suite\"]/div[4]/div/div/ul/li[{num}]/div[1]/h2/a'.format(num =j))\n",
    "            one_title.click()\n",
    "\n",
    "            article_xpath = driver.find_element_by_xpath('//*[@id=\"center\"]/article')\n",
    "\n",
    "            #facebook, Twitter의 위치가 계속 변동되어 지우고 위치지정\n",
    "            article = article_xpath.text.split('\\n')\n",
    "            article.remove('Facebook')\n",
    "            article.remove('Twitter')\n",
    "\n",
    "            #추출\n",
    "            title = article[0]\n",
    "            dates = article[2]\n",
    "            ho = article[6]\n",
    "            category = article[8]\n",
    "            contents = article[9:-1]\n",
    "\n",
    "            city = title.split(\" \")[-1]\n",
    "            if ')' in city:\n",
    "                city = city.replace('(',\"\").replace(')',\"\")\n",
    "            else :\n",
    "                city = np.nan\n",
    "\n",
    "            #저장 \n",
    "            final_dict.get('dates',0).append(dates)\n",
    "            final_dict.get('ho',0).append(ho)\n",
    "            final_dict.get('category',0).append(category)\n",
    "            final_dict.get('city',0).append(city)\n",
    "            final_dict.get('title',0).append(title)\n",
    "            final_dict.get('contents',0).append(contents)\n",
    "\n",
    "            #뒤로가기\n",
    "            time.sleep(0.5)\n",
    "            driver.back()\n",
    "    \n",
    "    except Exception as e:\n",
    "        pass \n"
   ]
  },
  {
   "cell_type": "code",
   "execution_count": 85,
   "metadata": {
    "ExecuteTime": {
     "end_time": "2020-05-07T04:46:44.374726Z",
     "start_time": "2020-05-07T04:46:44.369726Z"
    }
   },
   "outputs": [],
   "source": [
    "def save_reset():\n",
    "    \n",
    "    global final_dict\n",
    "    #csv 저장\n",
    "    final_df = pd.DataFrame(final_dict)\n",
    "\n",
    "    start_ho = final_df.ho.iloc[0]\n",
    "    end_ho = final_df.ho.iloc[-1]\n",
    "\n",
    "    final_df.to_csv('All_document({s}-{e}).csv'.format(s = start_ho, e = end_ho))\n",
    "    \n",
    "    #변수초기화\n",
    "    final_dict = dict()\n",
    "    final_dict['ho'] = []\n",
    "    final_dict['dates'] = []\n",
    "    final_dict['category'] = []\n",
    "    final_dict['city'] = []\n",
    "    final_dict['title'] = []\n",
    "    final_dict['contents'] = []"
   ]
  },
  {
   "cell_type": "markdown",
   "metadata": {},
   "source": [
    "# 과정통합 \n",
    "* 오래걸림 따라서 분할작업진행"
   ]
  },
  {
   "cell_type": "code",
   "execution_count": 28,
   "metadata": {
    "ExecuteTime": {
     "end_time": "2020-05-06T09:06:26.318836Z",
     "start_time": "2020-05-06T04:52:15.099681Z"
    },
    "code_folding": [],
    "collapsed": true
   },
   "outputs": [
    {
     "name": "stderr",
     "output_type": "stream",
     "text": [
      "C:\\Users\\User\\Anaconda3\\lib\\site-packages\\ipykernel_launcher.py:6: DeprecationWarning: use options instead of chrome_options\n",
      "  \n"
     ]
    },
    {
     "ename": "WebDriverException",
     "evalue": "Message: unknown error: cannot determine loading status\nfrom unknown error: unhandled inspector error: {\"code\":-32000,\"message\":\"Inspected target navigated or closed\"}\n  (Session info: chrome=81.0.4044.129)\n",
     "output_type": "error",
     "traceback": [
      "\u001b[1;31m---------------------------------------------------------------------------\u001b[0m",
      "\u001b[1;31mTimeoutException\u001b[0m                          Traceback (most recent call last)",
      "\u001b[1;32m<ipython-input-28-8d0155cf7b5a>\u001b[0m in \u001b[0;36m<module>\u001b[1;34m()\u001b[0m\n\u001b[0;32m     44\u001b[0m         \u001b[1;32mwhile\u001b[0m \u001b[1;32mTrue\u001b[0m\u001b[1;33m:\u001b[0m\u001b[1;33m\u001b[0m\u001b[0m\n\u001b[1;32m---> 45\u001b[1;33m             \u001b[0mnext_page\u001b[0m \u001b[1;33m=\u001b[0m \u001b[0mdriver\u001b[0m\u001b[1;33m.\u001b[0m\u001b[0mfind_element_by_xpath\u001b[0m\u001b[1;33m(\u001b[0m\u001b[1;34m'//*[@id=\"container_suite\"]/div[5]/ul/li[9]/a'\u001b[0m\u001b[1;33m)\u001b[0m\u001b[1;33m\u001b[0m\u001b[0m\n\u001b[0m\u001b[0;32m     46\u001b[0m             \u001b[0mnext_page\u001b[0m\u001b[1;33m.\u001b[0m\u001b[0mclick\u001b[0m\u001b[1;33m(\u001b[0m\u001b[1;33m)\u001b[0m\u001b[1;33m\u001b[0m\u001b[0m\n",
      "\u001b[1;32m~\\Anaconda3\\lib\\site-packages\\selenium\\webdriver\\remote\\webdriver.py\u001b[0m in \u001b[0;36mfind_element_by_xpath\u001b[1;34m(self, xpath)\u001b[0m\n\u001b[0;32m    393\u001b[0m         \"\"\"\n\u001b[1;32m--> 394\u001b[1;33m         \u001b[1;32mreturn\u001b[0m \u001b[0mself\u001b[0m\u001b[1;33m.\u001b[0m\u001b[0mfind_element\u001b[0m\u001b[1;33m(\u001b[0m\u001b[0mby\u001b[0m\u001b[1;33m=\u001b[0m\u001b[0mBy\u001b[0m\u001b[1;33m.\u001b[0m\u001b[0mXPATH\u001b[0m\u001b[1;33m,\u001b[0m \u001b[0mvalue\u001b[0m\u001b[1;33m=\u001b[0m\u001b[0mxpath\u001b[0m\u001b[1;33m)\u001b[0m\u001b[1;33m\u001b[0m\u001b[0m\n\u001b[0m\u001b[0;32m    395\u001b[0m \u001b[1;33m\u001b[0m\u001b[0m\n",
      "\u001b[1;32m~\\Anaconda3\\lib\\site-packages\\selenium\\webdriver\\remote\\webdriver.py\u001b[0m in \u001b[0;36mfind_element\u001b[1;34m(self, by, value)\u001b[0m\n\u001b[0;32m    977\u001b[0m             \u001b[1;34m'using'\u001b[0m\u001b[1;33m:\u001b[0m \u001b[0mby\u001b[0m\u001b[1;33m,\u001b[0m\u001b[1;33m\u001b[0m\u001b[0m\n\u001b[1;32m--> 978\u001b[1;33m             'value': value})['value']\n\u001b[0m\u001b[0;32m    979\u001b[0m \u001b[1;33m\u001b[0m\u001b[0m\n",
      "\u001b[1;32m~\\Anaconda3\\lib\\site-packages\\selenium\\webdriver\\remote\\webdriver.py\u001b[0m in \u001b[0;36mexecute\u001b[1;34m(self, driver_command, params)\u001b[0m\n\u001b[0;32m    320\u001b[0m         \u001b[1;32mif\u001b[0m \u001b[0mresponse\u001b[0m\u001b[1;33m:\u001b[0m\u001b[1;33m\u001b[0m\u001b[0m\n\u001b[1;32m--> 321\u001b[1;33m             \u001b[0mself\u001b[0m\u001b[1;33m.\u001b[0m\u001b[0merror_handler\u001b[0m\u001b[1;33m.\u001b[0m\u001b[0mcheck_response\u001b[0m\u001b[1;33m(\u001b[0m\u001b[0mresponse\u001b[0m\u001b[1;33m)\u001b[0m\u001b[1;33m\u001b[0m\u001b[0m\n\u001b[0m\u001b[0;32m    322\u001b[0m             response['value'] = self._unwrap_value(\n",
      "\u001b[1;32m~\\Anaconda3\\lib\\site-packages\\selenium\\webdriver\\remote\\errorhandler.py\u001b[0m in \u001b[0;36mcheck_response\u001b[1;34m(self, response)\u001b[0m\n\u001b[0;32m    241\u001b[0m             \u001b[1;32mraise\u001b[0m \u001b[0mexception_class\u001b[0m\u001b[1;33m(\u001b[0m\u001b[0mmessage\u001b[0m\u001b[1;33m,\u001b[0m \u001b[0mscreen\u001b[0m\u001b[1;33m,\u001b[0m \u001b[0mstacktrace\u001b[0m\u001b[1;33m,\u001b[0m \u001b[0malert_text\u001b[0m\u001b[1;33m)\u001b[0m\u001b[1;33m\u001b[0m\u001b[0m\n\u001b[1;32m--> 242\u001b[1;33m         \u001b[1;32mraise\u001b[0m \u001b[0mexception_class\u001b[0m\u001b[1;33m(\u001b[0m\u001b[0mmessage\u001b[0m\u001b[1;33m,\u001b[0m \u001b[0mscreen\u001b[0m\u001b[1;33m,\u001b[0m \u001b[0mstacktrace\u001b[0m\u001b[1;33m)\u001b[0m\u001b[1;33m\u001b[0m\u001b[0m\n\u001b[0m\u001b[0;32m    243\u001b[0m \u001b[1;33m\u001b[0m\u001b[0m\n",
      "\u001b[1;31mTimeoutException\u001b[0m: Message: timeout: Timed out receiving message from renderer: -0.003\n  (Session info: chrome=81.0.4044.129)\n",
      "\nDuring handling of the above exception, another exception occurred:\n",
      "\u001b[1;31mWebDriverException\u001b[0m                        Traceback (most recent call last)",
      "\u001b[1;32m<ipython-input-28-8d0155cf7b5a>\u001b[0m in \u001b[0;36m<module>\u001b[1;34m()\u001b[0m\n\u001b[0;32m     57\u001b[0m     \u001b[1;32mexcept\u001b[0m\u001b[1;33m:\u001b[0m\u001b[1;33m\u001b[0m\u001b[0m\n\u001b[0;32m     58\u001b[0m         \u001b[1;31m#에러난 페이지 내 다운로드\u001b[0m\u001b[1;33m\u001b[0m\u001b[1;33m\u001b[0m\u001b[0m\n\u001b[1;32m---> 59\u001b[1;33m         \u001b[0mho\u001b[0m \u001b[1;33m=\u001b[0m \u001b[0mdriver\u001b[0m\u001b[1;33m.\u001b[0m\u001b[0mfind_element_by_xpath\u001b[0m\u001b[1;33m(\u001b[0m\u001b[1;34m'//*[@id=\"container_suite\"]/div[2]/ul/li[1]/a'\u001b[0m\u001b[1;33m)\u001b[0m\u001b[1;33m\u001b[0m\u001b[0m\n\u001b[0m\u001b[0;32m     60\u001b[0m         \u001b[0mho\u001b[0m\u001b[1;33m.\u001b[0m\u001b[0mclick\u001b[0m\u001b[1;33m(\u001b[0m\u001b[1;33m)\u001b[0m\u001b[1;33m\u001b[0m\u001b[0m\n\u001b[0;32m     61\u001b[0m         \u001b[1;32mfor\u001b[0m \u001b[0mi\u001b[0m \u001b[1;32min\u001b[0m \u001b[0mrange\u001b[0m\u001b[1;33m(\u001b[0m\u001b[1;36m1\u001b[0m\u001b[1;33m,\u001b[0m\u001b[1;36m11\u001b[0m\u001b[1;33m)\u001b[0m\u001b[1;33m:\u001b[0m\u001b[1;33m\u001b[0m\u001b[0m\n",
      "\u001b[1;32m~\\Anaconda3\\lib\\site-packages\\selenium\\webdriver\\remote\\webdriver.py\u001b[0m in \u001b[0;36mfind_element_by_xpath\u001b[1;34m(self, xpath)\u001b[0m\n\u001b[0;32m    392\u001b[0m             \u001b[0melement\u001b[0m \u001b[1;33m=\u001b[0m \u001b[0mdriver\u001b[0m\u001b[1;33m.\u001b[0m\u001b[0mfind_element_by_xpath\u001b[0m\u001b[1;33m(\u001b[0m\u001b[1;34m'//div/td[1]'\u001b[0m\u001b[1;33m)\u001b[0m\u001b[1;33m\u001b[0m\u001b[0m\n\u001b[0;32m    393\u001b[0m         \"\"\"\n\u001b[1;32m--> 394\u001b[1;33m         \u001b[1;32mreturn\u001b[0m \u001b[0mself\u001b[0m\u001b[1;33m.\u001b[0m\u001b[0mfind_element\u001b[0m\u001b[1;33m(\u001b[0m\u001b[0mby\u001b[0m\u001b[1;33m=\u001b[0m\u001b[0mBy\u001b[0m\u001b[1;33m.\u001b[0m\u001b[0mXPATH\u001b[0m\u001b[1;33m,\u001b[0m \u001b[0mvalue\u001b[0m\u001b[1;33m=\u001b[0m\u001b[0mxpath\u001b[0m\u001b[1;33m)\u001b[0m\u001b[1;33m\u001b[0m\u001b[0m\n\u001b[0m\u001b[0;32m    395\u001b[0m \u001b[1;33m\u001b[0m\u001b[0m\n\u001b[0;32m    396\u001b[0m     \u001b[1;32mdef\u001b[0m \u001b[0mfind_elements_by_xpath\u001b[0m\u001b[1;33m(\u001b[0m\u001b[0mself\u001b[0m\u001b[1;33m,\u001b[0m \u001b[0mxpath\u001b[0m\u001b[1;33m)\u001b[0m\u001b[1;33m:\u001b[0m\u001b[1;33m\u001b[0m\u001b[0m\n",
      "\u001b[1;32m~\\Anaconda3\\lib\\site-packages\\selenium\\webdriver\\remote\\webdriver.py\u001b[0m in \u001b[0;36mfind_element\u001b[1;34m(self, by, value)\u001b[0m\n\u001b[0;32m    976\u001b[0m         return self.execute(Command.FIND_ELEMENT, {\n\u001b[0;32m    977\u001b[0m             \u001b[1;34m'using'\u001b[0m\u001b[1;33m:\u001b[0m \u001b[0mby\u001b[0m\u001b[1;33m,\u001b[0m\u001b[1;33m\u001b[0m\u001b[0m\n\u001b[1;32m--> 978\u001b[1;33m             'value': value})['value']\n\u001b[0m\u001b[0;32m    979\u001b[0m \u001b[1;33m\u001b[0m\u001b[0m\n\u001b[0;32m    980\u001b[0m     \u001b[1;32mdef\u001b[0m \u001b[0mfind_elements\u001b[0m\u001b[1;33m(\u001b[0m\u001b[0mself\u001b[0m\u001b[1;33m,\u001b[0m \u001b[0mby\u001b[0m\u001b[1;33m=\u001b[0m\u001b[0mBy\u001b[0m\u001b[1;33m.\u001b[0m\u001b[0mID\u001b[0m\u001b[1;33m,\u001b[0m \u001b[0mvalue\u001b[0m\u001b[1;33m=\u001b[0m\u001b[1;32mNone\u001b[0m\u001b[1;33m)\u001b[0m\u001b[1;33m:\u001b[0m\u001b[1;33m\u001b[0m\u001b[0m\n",
      "\u001b[1;32m~\\Anaconda3\\lib\\site-packages\\selenium\\webdriver\\remote\\webdriver.py\u001b[0m in \u001b[0;36mexecute\u001b[1;34m(self, driver_command, params)\u001b[0m\n\u001b[0;32m    319\u001b[0m         \u001b[0mresponse\u001b[0m \u001b[1;33m=\u001b[0m \u001b[0mself\u001b[0m\u001b[1;33m.\u001b[0m\u001b[0mcommand_executor\u001b[0m\u001b[1;33m.\u001b[0m\u001b[0mexecute\u001b[0m\u001b[1;33m(\u001b[0m\u001b[0mdriver_command\u001b[0m\u001b[1;33m,\u001b[0m \u001b[0mparams\u001b[0m\u001b[1;33m)\u001b[0m\u001b[1;33m\u001b[0m\u001b[0m\n\u001b[0;32m    320\u001b[0m         \u001b[1;32mif\u001b[0m \u001b[0mresponse\u001b[0m\u001b[1;33m:\u001b[0m\u001b[1;33m\u001b[0m\u001b[0m\n\u001b[1;32m--> 321\u001b[1;33m             \u001b[0mself\u001b[0m\u001b[1;33m.\u001b[0m\u001b[0merror_handler\u001b[0m\u001b[1;33m.\u001b[0m\u001b[0mcheck_response\u001b[0m\u001b[1;33m(\u001b[0m\u001b[0mresponse\u001b[0m\u001b[1;33m)\u001b[0m\u001b[1;33m\u001b[0m\u001b[0m\n\u001b[0m\u001b[0;32m    322\u001b[0m             response['value'] = self._unwrap_value(\n\u001b[0;32m    323\u001b[0m                 response.get('value', None))\n",
      "\u001b[1;32m~\\Anaconda3\\lib\\site-packages\\selenium\\webdriver\\remote\\errorhandler.py\u001b[0m in \u001b[0;36mcheck_response\u001b[1;34m(self, response)\u001b[0m\n\u001b[0;32m    240\u001b[0m                 \u001b[0malert_text\u001b[0m \u001b[1;33m=\u001b[0m \u001b[0mvalue\u001b[0m\u001b[1;33m[\u001b[0m\u001b[1;34m'alert'\u001b[0m\u001b[1;33m]\u001b[0m\u001b[1;33m.\u001b[0m\u001b[0mget\u001b[0m\u001b[1;33m(\u001b[0m\u001b[1;34m'text'\u001b[0m\u001b[1;33m)\u001b[0m\u001b[1;33m\u001b[0m\u001b[0m\n\u001b[0;32m    241\u001b[0m             \u001b[1;32mraise\u001b[0m \u001b[0mexception_class\u001b[0m\u001b[1;33m(\u001b[0m\u001b[0mmessage\u001b[0m\u001b[1;33m,\u001b[0m \u001b[0mscreen\u001b[0m\u001b[1;33m,\u001b[0m \u001b[0mstacktrace\u001b[0m\u001b[1;33m,\u001b[0m \u001b[0malert_text\u001b[0m\u001b[1;33m)\u001b[0m\u001b[1;33m\u001b[0m\u001b[0m\n\u001b[1;32m--> 242\u001b[1;33m         \u001b[1;32mraise\u001b[0m \u001b[0mexception_class\u001b[0m\u001b[1;33m(\u001b[0m\u001b[0mmessage\u001b[0m\u001b[1;33m,\u001b[0m \u001b[0mscreen\u001b[0m\u001b[1;33m,\u001b[0m \u001b[0mstacktrace\u001b[0m\u001b[1;33m)\u001b[0m\u001b[1;33m\u001b[0m\u001b[0m\n\u001b[0m\u001b[0;32m    243\u001b[0m \u001b[1;33m\u001b[0m\u001b[0m\n\u001b[0;32m    244\u001b[0m     \u001b[1;32mdef\u001b[0m \u001b[0m_value_or_default\u001b[0m\u001b[1;33m(\u001b[0m\u001b[0mself\u001b[0m\u001b[1;33m,\u001b[0m \u001b[0mobj\u001b[0m\u001b[1;33m,\u001b[0m \u001b[0mkey\u001b[0m\u001b[1;33m,\u001b[0m \u001b[0mdefault\u001b[0m\u001b[1;33m)\u001b[0m\u001b[1;33m:\u001b[0m\u001b[1;33m\u001b[0m\u001b[0m\n",
      "\u001b[1;31mWebDriverException\u001b[0m: Message: unknown error: cannot determine loading status\nfrom unknown error: unhandled inspector error: {\"code\":-32000,\"message\":\"Inspected target navigated or closed\"}\n  (Session info: chrome=81.0.4044.129)\n"
     ]
    }
   ],
   "source": [
    "#전체 진행 (오류나면서 끝나는것이 맞다)\n",
    "os.chdir('D:/Python/SDI 셀레니움/')\n",
    "options = Options()\n",
    "# chrome을 전체화면으로/ headless\n",
    "options.add_argument('--start-maximized')\n",
    "options.add_argument('--headless')\n",
    "driver = webdriver.Chrome(executable_path='./chromedriver', chrome_options=options)\n",
    "\n",
    "#사이트이동\n",
    "driver.get('http://www.sdi.re.kr')\n",
    "time.sleep(2)\n",
    "\n",
    "#세계도시동향 클릭\n",
    "donghyang = driver.find_element_by_xpath('//*[@id=\"block-system-main-menu\"]/div/ul/li[2]/a')\n",
    "donghyang.click()\n",
    "time.sleep(2)\n",
    "\n",
    "#1페이지 내 다운로드 \n",
    "for i in range(1,10):\n",
    "    #처음페이지는 9개인데 이후 10개씩\n",
    "    ho = driver.find_element_by_xpath('//*[@id=\"container_suite\"]/div[3]/ul/li[{num}]/a'.format(num = i))\n",
    "    ho.click()\n",
    "    time.sleep(1)\n",
    "    get_contents()\n",
    "# 2페이지로 넘어가는게 아래의 숫자와 같고 9가 반복됨 (원인은 숫자가 계속 밀리기 때문)\n",
    "#해당페이지는 2,3,4,5,6,7,\n",
    "for page_num in [2,5,6,7,8,9]:\n",
    "# for page_num in [2]:\n",
    "    next_page = driver.find_element_by_xpath('//*[@id=\"container_suite\"]/div[5]/ul/li[{page_num}]/a'.format(page_num = page_num))\n",
    "    next_page.click()\n",
    "    time.sleep(1)\n",
    "    try :\n",
    "        for i in range(1,11):\n",
    "        #처음페이지는 9개인데 이후 10개씩\n",
    "            ho = driver.find_element_by_xpath('//*[@id=\"container_suite\"]/div[3]/ul/li[{num}]/a'.format(num = i))\n",
    "            ho.click()\n",
    "            time.sleep(1)\n",
    "            get_contents()\n",
    "    except:\n",
    "        pass\n",
    "#이후 반복 2020-05-07 11:42:15 while True 이중으로 썻던 이유가 기억안난다\n",
    "while True:\n",
    "    try:\n",
    "        #이후반복\n",
    "        while True:\n",
    "            next_page = driver.find_element_by_xpath('//*[@id=\"container_suite\"]/div[5]/ul/li[9]/a')\n",
    "            next_page.click()\n",
    "            driver.implicitly_wait(10)\n",
    "            for i in range(1,11):\n",
    "                try:\n",
    "            #처음페이지는 9개인데 이후 10개씩\n",
    "                    ho = driver.find_element_by_xpath('//*[@id=\"container_suite\"]/div[3]/ul/li[{num}]/a'.format(num = i))\n",
    "                    ho.click()\n",
    "                    time.sleep(1)\n",
    "                    get_contents()\n",
    "                except:\n",
    "                    pass\n",
    "    except:\n",
    "        #에러난 페이지 내 다운로드 \n",
    "        ho = driver.find_element_by_xpath('//*[@id=\"container_suite\"]/div[2]/ul/li[1]/a')\n",
    "        ho.click()\n",
    "        for i in range(1,11):\n",
    "            try:\n",
    "                #처음페이지는 9개인데 이후 10개씩\n",
    "                ho = driver.find_element_by_xpath('//*[@id=\"container_suite\"]/div[3]/ul/li[{num}]/a'.format(num = i))\n",
    "                ho.click()\n",
    "                time.sleep(1)\n",
    "                get_contents()\n",
    "            except: \n",
    "                pass\n",
    "        pass\n"
   ]
  },
  {
   "cell_type": "markdown",
   "metadata": {},
   "source": [
    "### 특정페이지 이후(분할작업) 9~20"
   ]
  },
  {
   "cell_type": "code",
   "execution_count": null,
   "metadata": {
    "ExecuteTime": {
     "start_time": "2020-05-07T04:46:47.798Z"
    }
   },
   "outputs": [
    {
     "name": "stderr",
     "output_type": "stream",
     "text": [
      "C:\\Users\\User\\Anaconda3\\lib\\site-packages\\ipykernel_launcher.py:7: DeprecationWarning: use options instead of chrome_options\n",
      "  import sys\n"
     ]
    }
   ],
   "source": [
    "#전체 진행 (오류나면서 끝나는것이 맞다)\n",
    "os.chdir('D:/Python/SDI 셀레니움/')\n",
    "options = Options()\n",
    "# chrome을 전체화면으로/ headless\n",
    "options.add_argument('--start-maximized')\n",
    "options.add_argument('--headless')\n",
    "driver = webdriver.Chrome(executable_path='./chromedriver', chrome_options=options)\n",
    "\n",
    "#사이트이동\n",
    "for num in range(9, 21):\n",
    "    driver.get('https://www.si.re.kr/world_trends/22383?paged={page_num}'.format(page_num = num))\n",
    "    time.sleep(2)\n",
    "\n",
    "    #1페이지 내 다운로드 \n",
    "    for i in range(1,11):\n",
    "        #처음페이지는 9개인데 이후 10개씩\n",
    "        ho = driver.find_element_by_xpath('//*[@id=\"container_suite\"]/div[3]/ul/li[{num}]/a'.format(num = i))\n",
    "        ho.click()\n",
    "        time.sleep(1)\n",
    "        get_contents()\n",
    "    save_reset()\n",
    "    #이후반복\n",
    "    while True:\n",
    "        next_page = driver.find_element_by_xpath('//*[@id=\"container_suite\"]/div[5]/ul/li[9]/a')\n",
    "        next_page.click()\n",
    "        driver.implicitly_wait(10)\n",
    "        for i in range(1,11):\n",
    "            try:\n",
    "        #처음페이지는 9개인데 이후 10개씩\n",
    "                ho = driver.find_element_by_xpath('//*[@id=\"container_suite\"]/div[3]/ul/li[{num}]/a'.format(num = i))\n",
    "                ho.click()\n",
    "                time.sleep(1)\n",
    "                get_contents()\n",
    "            except:\n",
    "                pass\n",
    "        save_reset()"
   ]
  },
  {
   "cell_type": "markdown",
   "metadata": {},
   "source": [
    "### 디버깅 : 에러나는 페이지 5번(434포함됨) 확인\n",
    "-> 1페이지 긁을때는 문제 없음"
   ]
  },
  {
   "cell_type": "code",
   "execution_count": 50,
   "metadata": {
    "ExecuteTime": {
     "end_time": "2020-05-07T02:16:48.700045Z",
     "start_time": "2020-05-07T02:16:48.697045Z"
    }
   },
   "outputs": [],
   "source": [
    "#저장위치\n",
    "final_dict = dict()\n",
    "final_dict['ho'] = []\n",
    "final_dict['dates'] = []\n",
    "final_dict['category'] = []\n",
    "final_dict['city'] = []\n",
    "final_dict['title'] = []\n",
    "final_dict['contents'] = []"
   ]
  },
  {
   "cell_type": "code",
   "execution_count": 33,
   "metadata": {
    "ExecuteTime": {
     "end_time": "2020-05-07T01:52:33.545339Z",
     "start_time": "2020-05-07T01:46:08.778704Z"
    }
   },
   "outputs": [],
   "source": [
    "#1페이지 내 다운로드 \n",
    "for i in range(1,10):\n",
    "    #처음페이지는 9개인데 이후 10개씩\n",
    "    ho = driver.find_element_by_xpath('//*[@id=\"container_suite\"]/div[3]/ul/li[{num}]/a'.format(num = i))\n",
    "    ho.click()\n",
    "    time.sleep(0.5)\n",
    "    get_contents()"
   ]
  },
  {
   "cell_type": "code",
   "execution_count": 38,
   "metadata": {
    "ExecuteTime": {
     "end_time": "2020-05-07T01:59:35.424745Z",
     "start_time": "2020-05-07T01:59:35.416556Z"
    }
   },
   "outputs": [],
   "source": [
    "pd.options.display.max_rows = 10"
   ]
  },
  {
   "cell_type": "code",
   "execution_count": 39,
   "metadata": {
    "ExecuteTime": {
     "end_time": "2020-05-07T01:59:36.017573Z",
     "start_time": "2020-05-07T01:59:35.994651Z"
    },
    "scrolled": false
   },
   "outputs": [
    {
     "data": {
      "text/html": [
       "<div>\n",
       "<style scoped>\n",
       "    .dataframe tbody tr th:only-of-type {\n",
       "        vertical-align: middle;\n",
       "    }\n",
       "\n",
       "    .dataframe tbody tr th {\n",
       "        vertical-align: top;\n",
       "    }\n",
       "\n",
       "    .dataframe thead th {\n",
       "        text-align: right;\n",
       "    }\n",
       "</style>\n",
       "<table border=\"1\" class=\"dataframe\">\n",
       "  <thead>\n",
       "    <tr style=\"text-align: right;\">\n",
       "      <th></th>\n",
       "      <th>ho</th>\n",
       "      <th>dates</th>\n",
       "      <th>category</th>\n",
       "      <th>city</th>\n",
       "      <th>title</th>\n",
       "      <th>contents</th>\n",
       "    </tr>\n",
       "  </thead>\n",
       "  <tbody>\n",
       "    <tr>\n",
       "      <td>0</td>\n",
       "      <td>제436호</td>\n",
       "      <td>2018.08.08</td>\n",
       "      <td>헤드라인뉴스</td>\n",
       "      <td>교토市</td>\n",
       "      <td>中企에 에너지 관리전문가 무료 파견 (일본 교토市)</td>\n",
       "      <td>[일본 교토市는 중소기업에 에너지 관리전문가를 무료로 파견해 에너지절약계획의 준비부...</td>\n",
       "    </tr>\n",
       "    <tr>\n",
       "      <td>1</td>\n",
       "      <td>제436호</td>\n",
       "      <td>2018.08.08</td>\n",
       "      <td>사회/복지</td>\n",
       "      <td>파리市</td>\n",
       "      <td>공유경제 관련 세대간 유대 강화 등 2가지 제안 (프랑스 파리市)</td>\n",
       "      <td>[프랑스 파리市 ‘미래세대회의’(CGF: Conseil des Generations...</td>\n",
       "    </tr>\n",
       "    <tr>\n",
       "      <td>2</td>\n",
       "      <td>제436호</td>\n",
       "      <td>2018.08.08</td>\n",
       "      <td>사회/복지</td>\n",
       "      <td>베를린市</td>\n",
       "      <td>‘새 이웃 개발하기’ 프로젝트 거점공간 4곳 추가 (독일 베를린市)</td>\n",
       "      <td>[독일 베를린市는 최근 수년간 유입된 많은 난민이 베를린에 오래 머무를 것으로 예상...</td>\n",
       "    </tr>\n",
       "    <tr>\n",
       "      <td>3</td>\n",
       "      <td>제436호</td>\n",
       "      <td>2018.08.08</td>\n",
       "      <td>사회/복지</td>\n",
       "      <td>자카르타州</td>\n",
       "      <td>지역보건소, ‘정신질환 대응’ 모바일 앱 개발 (인도네시아 자카르타州)</td>\n",
       "      <td>[인도네시아 자카르타州 남자카르타市 칠란닥(Cilandak)區 보건소는 정신건강 관...</td>\n",
       "    </tr>\n",
       "    <tr>\n",
       "      <td>4</td>\n",
       "      <td>제436호</td>\n",
       "      <td>2018.08.08</td>\n",
       "      <td>행재정/교육</td>\n",
       "      <td>런던市</td>\n",
       "      <td>공공병원 응급실 폭력행위 줄이는 디자인 프로그램 (영국 런던市)</td>\n",
       "      <td>[영국 런던市는 공공병원 응급실에서 발생하는 폭력･폭언 등 공격성 사건이 응급실 내...</td>\n",
       "    </tr>\n",
       "    <tr>\n",
       "      <td>...</td>\n",
       "      <td>...</td>\n",
       "      <td>...</td>\n",
       "      <td>...</td>\n",
       "      <td>...</td>\n",
       "      <td>...</td>\n",
       "      <td>...</td>\n",
       "    </tr>\n",
       "    <tr>\n",
       "      <td>85</td>\n",
       "      <td>제428호</td>\n",
       "      <td>2018.04.12</td>\n",
       "      <td>사회/복지</td>\n",
       "      <td>버밍엄市</td>\n",
       "      <td>‘아동 성보호 인식 확산’ 캠페인 진행 (영국 버밍엄市)</td>\n",
       "      <td>[전 세계적인 미투(#MeToo) 운동 확산으로 사회적 약자를 대상으로 한 성범죄에...</td>\n",
       "    </tr>\n",
       "    <tr>\n",
       "      <td>86</td>\n",
       "      <td>제428호</td>\n",
       "      <td>2018.04.12</td>\n",
       "      <td>사회/복지</td>\n",
       "      <td>빅토리아州</td>\n",
       "      <td>장애인 고교생에 유급 고용기회 제공 (호주 빅토리아州)</td>\n",
       "      <td>[호주 빅토리아州는 장애인의 학창시절 고용경험이 성인기의 고용에 가장 큰 영향을 미...</td>\n",
       "    </tr>\n",
       "    <tr>\n",
       "      <td>87</td>\n",
       "      <td>제428호</td>\n",
       "      <td>2018.04.12</td>\n",
       "      <td>환경/안전</td>\n",
       "      <td>바르셀로나市</td>\n",
       "      <td>분리수거 방법 개선 등으로 ‘쓰레기 무배출’ 추진 (스페인 바르셀로나市)</td>\n",
       "      <td>[스페인 바르셀로나市는 ‘쓰레기 무배출’(Residuo Cero: Zero Wast...</td>\n",
       "    </tr>\n",
       "    <tr>\n",
       "      <td>88</td>\n",
       "      <td>제428호</td>\n",
       "      <td>2018.04.12</td>\n",
       "      <td>환경/안전</td>\n",
       "      <td>오사카市</td>\n",
       "      <td>재해 발생 시 임산부 등 피난약자에 충분한 지원 (일본 오사카市)</td>\n",
       "      <td>[일본 오사카市는 재해 발생에 따른 피난 상황에서 도움이 필요한 고령자, 장애인, ...</td>\n",
       "    </tr>\n",
       "    <tr>\n",
       "      <td>89</td>\n",
       "      <td>제428호</td>\n",
       "      <td>2018.04.12</td>\n",
       "      <td>도시계획/주택</td>\n",
       "      <td>뉴욕市</td>\n",
       "      <td>에어비앤비, 주택난 심화요인…해법 모색 (미국 뉴욕市)</td>\n",
       "      <td>[미국 뉴욕市는 숙박 공유 서비스인 에어비앤비(Airbnb)가 장기적으로 주택 임대...</td>\n",
       "    </tr>\n",
       "  </tbody>\n",
       "</table>\n",
       "<p>90 rows × 6 columns</p>\n",
       "</div>"
      ],
      "text/plain": [
       "       ho       dates category    city  \\\n",
       "0   제436호  2018.08.08   헤드라인뉴스     교토市   \n",
       "1   제436호  2018.08.08    사회/복지     파리市   \n",
       "2   제436호  2018.08.08    사회/복지    베를린市   \n",
       "3   제436호  2018.08.08    사회/복지   자카르타州   \n",
       "4   제436호  2018.08.08   행재정/교육     런던市   \n",
       "..    ...         ...      ...     ...   \n",
       "85  제428호  2018.04.12    사회/복지    버밍엄市   \n",
       "86  제428호  2018.04.12    사회/복지   빅토리아州   \n",
       "87  제428호  2018.04.12    환경/안전  바르셀로나市   \n",
       "88  제428호  2018.04.12    환경/안전    오사카市   \n",
       "89  제428호  2018.04.12  도시계획/주택     뉴욕市   \n",
       "\n",
       "                                       title  \\\n",
       "0               中企에 에너지 관리전문가 무료 파견 (일본 교토市)   \n",
       "1       공유경제 관련 세대간 유대 강화 등 2가지 제안 (프랑스 파리市)   \n",
       "2      ‘새 이웃 개발하기’ 프로젝트 거점공간 4곳 추가 (독일 베를린市)   \n",
       "3    지역보건소, ‘정신질환 대응’ 모바일 앱 개발 (인도네시아 자카르타州)   \n",
       "4        공공병원 응급실 폭력행위 줄이는 디자인 프로그램 (영국 런던市)   \n",
       "..                                       ...   \n",
       "85           ‘아동 성보호 인식 확산’ 캠페인 진행 (영국 버밍엄市)   \n",
       "86            장애인 고교생에 유급 고용기회 제공 (호주 빅토리아州)   \n",
       "87  분리수거 방법 개선 등으로 ‘쓰레기 무배출’ 추진 (스페인 바르셀로나市)   \n",
       "88      재해 발생 시 임산부 등 피난약자에 충분한 지원 (일본 오사카市)   \n",
       "89            에어비앤비, 주택난 심화요인…해법 모색 (미국 뉴욕市)   \n",
       "\n",
       "                                             contents  \n",
       "0   [일본 교토市는 중소기업에 에너지 관리전문가를 무료로 파견해 에너지절약계획의 준비부...  \n",
       "1   [프랑스 파리市 ‘미래세대회의’(CGF: Conseil des Generations...  \n",
       "2   [독일 베를린市는 최근 수년간 유입된 많은 난민이 베를린에 오래 머무를 것으로 예상...  \n",
       "3   [인도네시아 자카르타州 남자카르타市 칠란닥(Cilandak)區 보건소는 정신건강 관...  \n",
       "4   [영국 런던市는 공공병원 응급실에서 발생하는 폭력･폭언 등 공격성 사건이 응급실 내...  \n",
       "..                                                ...  \n",
       "85  [전 세계적인 미투(#MeToo) 운동 확산으로 사회적 약자를 대상으로 한 성범죄에...  \n",
       "86  [호주 빅토리아州는 장애인의 학창시절 고용경험이 성인기의 고용에 가장 큰 영향을 미...  \n",
       "87  [스페인 바르셀로나市는 ‘쓰레기 무배출’(Residuo Cero: Zero Wast...  \n",
       "88  [일본 오사카市는 재해 발생에 따른 피난 상황에서 도움이 필요한 고령자, 장애인, ...  \n",
       "89  [미국 뉴욕市는 숙박 공유 서비스인 에어비앤비(Airbnb)가 장기적으로 주택 임대...  \n",
       "\n",
       "[90 rows x 6 columns]"
      ]
     },
     "execution_count": 39,
     "metadata": {},
     "output_type": "execute_result"
    }
   ],
   "source": [
    "pd.DataFrame(final_dict)"
   ]
  },
  {
   "cell_type": "markdown",
   "metadata": {},
   "source": [
    "### 디버그2 - 페이지 이동문제\n",
    "-> 이동자체는 문제없음"
   ]
  },
  {
   "cell_type": "code",
   "execution_count": 43,
   "metadata": {
    "ExecuteTime": {
     "end_time": "2020-05-07T02:03:33.401669Z",
     "start_time": "2020-05-07T02:03:18.328910Z"
    }
   },
   "outputs": [],
   "source": [
    "for page_num in [2,5,6,7,8,9]: #7번페이지까지 이동 \n",
    "# for page_num in [2]:\n",
    "    next_page = driver.find_element_by_xpath('//*[@id=\"container_suite\"]/div[5]/ul/li[{page_num}]/a'.format(page_num = page_num))\n",
    "    next_page.click()\n",
    "    time.sleep(0.5)"
   ]
  },
  {
   "cell_type": "markdown",
   "metadata": {},
   "source": [
    "### 디버그3 - 페이지 이동후 긁는것 문제(유력)\n",
    "->문제의 5번페이지 긁는데 이상이 없다 : 원인을 모르겠다"
   ]
  },
  {
   "cell_type": "code",
   "execution_count": 44,
   "metadata": {
    "ExecuteTime": {
     "end_time": "2020-05-07T02:14:55.739116Z",
     "start_time": "2020-05-07T02:06:10.112486Z"
    }
   },
   "outputs": [],
   "source": [
    "for page_num in [2,5,6,7,8,9]:\n",
    "# for page_num in [2]:\n",
    "    next_page = driver.find_element_by_xpath('//*[@id=\"container_suite\"]/div[5]/ul/li[{page_num}]/a'.format(page_num = page_num))\n",
    "    next_page.click()\n",
    "    time.sleep(0.5)\n",
    "    try :\n",
    "        for i in range(1,11):\n",
    "        #처음페이지는 9개인데 이후 10개씩\n",
    "            ho = driver.find_element_by_xpath('//*[@id=\"container_suite\"]/div[3]/ul/li[{num}]/a'.format(num = i))\n",
    "            ho.click()\n",
    "            time.sleep(0.5)\n",
    "            if page_num == (7 or 8):\n",
    "                get_contents()\n",
    "    except:\n",
    "        pass"
   ]
  },
  {
   "cell_type": "code",
   "execution_count": 48,
   "metadata": {
    "ExecuteTime": {
     "end_time": "2020-05-07T02:15:56.966436Z",
     "start_time": "2020-05-07T02:15:56.962435Z"
    }
   },
   "outputs": [],
   "source": [
    "aa = pd.DataFrame(final_dict)"
   ]
  },
  {
   "cell_type": "code",
   "execution_count": 49,
   "metadata": {
    "ExecuteTime": {
     "end_time": "2020-05-07T02:16:04.983577Z",
     "start_time": "2020-05-07T02:16:04.969574Z"
    }
   },
   "outputs": [
    {
     "data": {
      "text/html": [
       "<div>\n",
       "<style scoped>\n",
       "    .dataframe tbody tr th:only-of-type {\n",
       "        vertical-align: middle;\n",
       "    }\n",
       "\n",
       "    .dataframe tbody tr th {\n",
       "        vertical-align: top;\n",
       "    }\n",
       "\n",
       "    .dataframe thead th {\n",
       "        text-align: right;\n",
       "    }\n",
       "</style>\n",
       "<table border=\"1\" class=\"dataframe\">\n",
       "  <thead>\n",
       "    <tr style=\"text-align: right;\">\n",
       "      <th></th>\n",
       "      <th>ho</th>\n",
       "      <th>dates</th>\n",
       "      <th>category</th>\n",
       "      <th>city</th>\n",
       "      <th>title</th>\n",
       "      <th>contents</th>\n",
       "    </tr>\n",
       "  </thead>\n",
       "  <tbody>\n",
       "    <tr>\n",
       "      <td>0</td>\n",
       "      <td>제436호</td>\n",
       "      <td>2018.08.08</td>\n",
       "      <td>헤드라인뉴스</td>\n",
       "      <td>교토市</td>\n",
       "      <td>中企에 에너지 관리전문가 무료 파견 (일본 교토市)</td>\n",
       "      <td>[일본 교토市는 중소기업에 에너지 관리전문가를 무료로 파견해 에너지절약계획의 준비부...</td>\n",
       "    </tr>\n",
       "    <tr>\n",
       "      <td>1</td>\n",
       "      <td>제436호</td>\n",
       "      <td>2018.08.08</td>\n",
       "      <td>사회/복지</td>\n",
       "      <td>파리市</td>\n",
       "      <td>공유경제 관련 세대간 유대 강화 등 2가지 제안 (프랑스 파리市)</td>\n",
       "      <td>[프랑스 파리市 ‘미래세대회의’(CGF: Conseil des Generations...</td>\n",
       "    </tr>\n",
       "    <tr>\n",
       "      <td>2</td>\n",
       "      <td>제436호</td>\n",
       "      <td>2018.08.08</td>\n",
       "      <td>사회/복지</td>\n",
       "      <td>베를린市</td>\n",
       "      <td>‘새 이웃 개발하기’ 프로젝트 거점공간 4곳 추가 (독일 베를린市)</td>\n",
       "      <td>[독일 베를린市는 최근 수년간 유입된 많은 난민이 베를린에 오래 머무를 것으로 예상...</td>\n",
       "    </tr>\n",
       "    <tr>\n",
       "      <td>3</td>\n",
       "      <td>제436호</td>\n",
       "      <td>2018.08.08</td>\n",
       "      <td>사회/복지</td>\n",
       "      <td>자카르타州</td>\n",
       "      <td>지역보건소, ‘정신질환 대응’ 모바일 앱 개발 (인도네시아 자카르타州)</td>\n",
       "      <td>[인도네시아 자카르타州 남자카르타市 칠란닥(Cilandak)區 보건소는 정신건강 관...</td>\n",
       "    </tr>\n",
       "    <tr>\n",
       "      <td>4</td>\n",
       "      <td>제436호</td>\n",
       "      <td>2018.08.08</td>\n",
       "      <td>행재정/교육</td>\n",
       "      <td>런던市</td>\n",
       "      <td>공공병원 응급실 폭력행위 줄이는 디자인 프로그램 (영국 런던市)</td>\n",
       "      <td>[영국 런던市는 공공병원 응급실에서 발생하는 폭력･폭언 등 공격성 사건이 응급실 내...</td>\n",
       "    </tr>\n",
       "    <tr>\n",
       "      <td>...</td>\n",
       "      <td>...</td>\n",
       "      <td>...</td>\n",
       "      <td>...</td>\n",
       "      <td>...</td>\n",
       "      <td>...</td>\n",
       "      <td>...</td>\n",
       "    </tr>\n",
       "    <tr>\n",
       "      <td>182</td>\n",
       "      <td>제427호</td>\n",
       "      <td>2018.03.28</td>\n",
       "      <td>사회/복지</td>\n",
       "      <td>에든버러市</td>\n",
       "      <td>2011년부터 청년에 다양한 일자리·교육기회 제공 (영국 에든버러市)</td>\n",
       "      <td>[영국 에든버러市는 세계적 금융위기로 경제상황이 악화되던 2011년부터 고등학교를 ...</td>\n",
       "    </tr>\n",
       "    <tr>\n",
       "      <td>183</td>\n",
       "      <td>제427호</td>\n",
       "      <td>2018.03.28</td>\n",
       "      <td>사회/복지</td>\n",
       "      <td>뉴욕市</td>\n",
       "      <td>시민 정신건강문제 해결에 정책적 대응 강화 (미국 뉴욕市)</td>\n",
       "      <td>[성인 5명 중 1명 이상이 정신건강문제를 겪고 있는 미국 뉴욕市는 2016년부터 ...</td>\n",
       "    </tr>\n",
       "    <tr>\n",
       "      <td>184</td>\n",
       "      <td>제427호</td>\n",
       "      <td>2018.03.28</td>\n",
       "      <td>환경/안전</td>\n",
       "      <td>파리市</td>\n",
       "      <td>‘생물다양성 증진’ 2018~2024년 플랜 발표 (프랑스 파리市)</td>\n",
       "      <td>[프랑스 파리市는 ‘일 드 프랑스’(ile de France: 수도권)를 포함한 ‘...</td>\n",
       "    </tr>\n",
       "    <tr>\n",
       "      <td>185</td>\n",
       "      <td>제427호</td>\n",
       "      <td>2018.03.28</td>\n",
       "      <td>도시계획/주택</td>\n",
       "      <td>바르셀로나市</td>\n",
       "      <td>건물에너지 효율적 사용 정보 다룬 안내서 발간 (스페인 바르셀로나市)</td>\n",
       "      <td>[스페인 바르셀로나市는 기후변화에 대처하는 프로젝트의 하나로 건물에너지를 효율적으로...</td>\n",
       "    </tr>\n",
       "    <tr>\n",
       "      <td>186</td>\n",
       "      <td>제427호</td>\n",
       "      <td>2018.03.28</td>\n",
       "      <td>도시계획/주택</td>\n",
       "      <td></td>\n",
       "      <td>‘더 즐겁고 자연적이고 창의적인’ 놀이터 30곳 조성 (스페인 바르셀로나市 )</td>\n",
       "      <td>[스페인 바르셀로나市는 지난 2월 8일 시내 초등학생들과 함께 도시 내 놀이공간의 ...</td>\n",
       "    </tr>\n",
       "  </tbody>\n",
       "</table>\n",
       "<p>97 rows × 6 columns</p>\n",
       "</div>"
      ],
      "text/plain": [
       "        ho       dates category    city  \\\n",
       "0    제436호  2018.08.08   헤드라인뉴스     교토市   \n",
       "1    제436호  2018.08.08    사회/복지     파리市   \n",
       "2    제436호  2018.08.08    사회/복지    베를린市   \n",
       "3    제436호  2018.08.08    사회/복지   자카르타州   \n",
       "4    제436호  2018.08.08   행재정/교육     런던市   \n",
       "..     ...         ...      ...     ...   \n",
       "182  제427호  2018.03.28    사회/복지   에든버러市   \n",
       "183  제427호  2018.03.28    사회/복지     뉴욕市   \n",
       "184  제427호  2018.03.28    환경/안전     파리市   \n",
       "185  제427호  2018.03.28  도시계획/주택  바르셀로나市   \n",
       "186  제427호  2018.03.28  도시계획/주택           \n",
       "\n",
       "                                           title  \\\n",
       "0                   中企에 에너지 관리전문가 무료 파견 (일본 교토市)   \n",
       "1           공유경제 관련 세대간 유대 강화 등 2가지 제안 (프랑스 파리市)   \n",
       "2          ‘새 이웃 개발하기’ 프로젝트 거점공간 4곳 추가 (독일 베를린市)   \n",
       "3        지역보건소, ‘정신질환 대응’ 모바일 앱 개발 (인도네시아 자카르타州)   \n",
       "4            공공병원 응급실 폭력행위 줄이는 디자인 프로그램 (영국 런던市)   \n",
       "..                                           ...   \n",
       "182       2011년부터 청년에 다양한 일자리·교육기회 제공 (영국 에든버러市)   \n",
       "183             시민 정신건강문제 해결에 정책적 대응 강화 (미국 뉴욕市)   \n",
       "184        ‘생물다양성 증진’ 2018~2024년 플랜 발표 (프랑스 파리市)   \n",
       "185       건물에너지 효율적 사용 정보 다룬 안내서 발간 (스페인 바르셀로나市)   \n",
       "186  ‘더 즐겁고 자연적이고 창의적인’ 놀이터 30곳 조성 (스페인 바르셀로나市 )   \n",
       "\n",
       "                                              contents  \n",
       "0    [일본 교토市는 중소기업에 에너지 관리전문가를 무료로 파견해 에너지절약계획의 준비부...  \n",
       "1    [프랑스 파리市 ‘미래세대회의’(CGF: Conseil des Generations...  \n",
       "2    [독일 베를린市는 최근 수년간 유입된 많은 난민이 베를린에 오래 머무를 것으로 예상...  \n",
       "3    [인도네시아 자카르타州 남자카르타市 칠란닥(Cilandak)區 보건소는 정신건강 관...  \n",
       "4    [영국 런던市는 공공병원 응급실에서 발생하는 폭력･폭언 등 공격성 사건이 응급실 내...  \n",
       "..                                                 ...  \n",
       "182  [영국 에든버러市는 세계적 금융위기로 경제상황이 악화되던 2011년부터 고등학교를 ...  \n",
       "183  [성인 5명 중 1명 이상이 정신건강문제를 겪고 있는 미국 뉴욕市는 2016년부터 ...  \n",
       "184  [프랑스 파리市는 ‘일 드 프랑스’(ile de France: 수도권)를 포함한 ‘...  \n",
       "185  [스페인 바르셀로나市는 기후변화에 대처하는 프로젝트의 하나로 건물에너지를 효율적으로...  \n",
       "186  [스페인 바르셀로나市는 지난 2월 8일 시내 초등학생들과 함께 도시 내 놀이공간의 ...  \n",
       "\n",
       "[97 rows x 6 columns]"
      ]
     },
     "execution_count": 49,
     "metadata": {},
     "output_type": "execute_result"
    }
   ],
   "source": [
    "aa.drop_duplicates('title')"
   ]
  },
  {
   "cell_type": "markdown",
   "metadata": {},
   "source": [
    "### 분할작업"
   ]
  },
  {
   "cell_type": "code",
   "execution_count": 53,
   "metadata": {
    "ExecuteTime": {
     "end_time": "2020-05-07T03:58:32.324665Z",
     "start_time": "2020-05-07T02:20:10.953369Z"
    }
   },
   "outputs": [],
   "source": [
    "#1페이지 내 다운로드 \n",
    "for i in range(1,10):\n",
    "    #처음페이지는 9개인데 이후 10개씩\n",
    "    ho = driver.find_element_by_xpath('//*[@id=\"container_suite\"]/div[3]/ul/li[{num}]/a'.format(num = i))\n",
    "    ho.click()\n",
    "    time.sleep(1)\n",
    "    get_contents()\n",
    "# 2페이지로 넘어가는게 아래의 숫자와 같고 9가 반복됨 (원인은 숫자가 계속 밀리기 때문)\n",
    "#해당페이지는 2,3,4,5,6,7,\n",
    "for page_num in [2,5,6,7,8,9]:\n",
    "# for page_num in [2]:\n",
    "    next_page = driver.find_element_by_xpath('//*[@id=\"container_suite\"]/div[5]/ul/li[{page_num}]/a'.format(page_num = page_num))\n",
    "    next_page.click()\n",
    "    time.sleep(1)\n",
    "    try :\n",
    "        for i in range(1,11):\n",
    "        #처음페이지는 9개인데 이후 10개씩\n",
    "            ho = driver.find_element_by_xpath('//*[@id=\"container_suite\"]/div[3]/ul/li[{num}]/a'.format(num = i))\n",
    "            ho.click()\n",
    "            time.sleep(1)\n",
    "            get_contents()\n",
    "    except:\n",
    "        pass"
   ]
  },
  {
   "cell_type": "code",
   "execution_count": 55,
   "metadata": {
    "ExecuteTime": {
     "end_time": "2020-05-07T04:05:58.902942Z",
     "start_time": "2020-05-07T04:05:58.897941Z"
    }
   },
   "outputs": [],
   "source": [
    "aa = pd.DataFrame(final_dict)"
   ]
  },
  {
   "cell_type": "code",
   "execution_count": 57,
   "metadata": {
    "ExecuteTime": {
     "end_time": "2020-05-07T04:06:11.267014Z",
     "start_time": "2020-05-07T04:06:11.260011Z"
    }
   },
   "outputs": [
    {
     "data": {
      "text/plain": [
       "((607, 6), (602, 6))"
      ]
     },
     "execution_count": 57,
     "metadata": {},
     "output_type": "execute_result"
    }
   ],
   "source": [
    "aa.shape, aa.drop_duplicates('title').shape"
   ]
  },
  {
   "cell_type": "code",
   "execution_count": 74,
   "metadata": {
    "ExecuteTime": {
     "end_time": "2020-05-07T04:13:07.648397Z",
     "start_time": "2020-05-07T04:13:07.599033Z"
    }
   },
   "outputs": [],
   "source": [
    "    #csv 저장\n",
    "    final_df = pd.DataFrame(final_dict)\n",
    "\n",
    "    start_ho = final_df.ho.iloc[0]\n",
    "    end_ho = final_df.ho.iloc[-1]\n",
    "\n",
    "    final_df.to_csv('All_document({s}-{e}).csv'.format(s = start_ho, e = end_ho))"
   ]
  },
  {
   "cell_type": "code",
   "execution_count": null,
   "metadata": {},
   "outputs": [],
   "source": []
  }
 ],
 "metadata": {
  "kernelspec": {
   "display_name": "Python 3",
   "language": "python",
   "name": "python3"
  },
  "language_info": {
   "codemirror_mode": {
    "name": "ipython",
    "version": 3
   },
   "file_extension": ".py",
   "mimetype": "text/x-python",
   "name": "python",
   "nbconvert_exporter": "python",
   "pygments_lexer": "ipython3",
   "version": "3.6.5"
  },
  "varInspector": {
   "cols": {
    "lenName": 16,
    "lenType": 16,
    "lenVar": 40
   },
   "kernels_config": {
    "python": {
     "delete_cmd_postfix": "",
     "delete_cmd_prefix": "del ",
     "library": "var_list.py",
     "varRefreshCmd": "print(var_dic_list())"
    },
    "r": {
     "delete_cmd_postfix": ") ",
     "delete_cmd_prefix": "rm(",
     "library": "var_list.r",
     "varRefreshCmd": "cat(var_dic_list()) "
    }
   },
   "types_to_exclude": [
    "module",
    "function",
    "builtin_function_or_method",
    "instance",
    "_Feature"
   ],
   "window_display": false
  }
 },
 "nbformat": 4,
 "nbformat_minor": 2
}
