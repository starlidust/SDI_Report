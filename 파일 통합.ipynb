{
 "cells": [
  {
   "cell_type": "code",
   "execution_count": 1,
   "metadata": {
    "ExecuteTime": {
     "end_time": "2020-05-08T07:36:01.331329Z",
     "start_time": "2020-05-08T07:35:57.119898Z"
    }
   },
   "outputs": [],
   "source": [
    "import os\n",
    "import pandas as pd\n",
    "import numpy as np"
   ]
  },
  {
   "cell_type": "code",
   "execution_count": 2,
   "metadata": {
    "ExecuteTime": {
     "end_time": "2020-05-08T07:36:01.493366Z",
     "start_time": "2020-05-08T07:36:01.486365Z"
    }
   },
   "outputs": [],
   "source": [
    "path = './result/'\n",
    "file_list = os.listdir(path)"
   ]
  },
  {
   "cell_type": "code",
   "execution_count": 3,
   "metadata": {
    "ExecuteTime": {
     "end_time": "2020-05-08T02:29:45.086537Z",
     "start_time": "2020-05-08T02:29:45.083538Z"
    }
   },
   "outputs": [],
   "source": [
    "#이상치 체크 6개이상 20개 미만 (중복제거전)\n",
    "def check_error(file_name,df):\n",
    "    counted = df.ho.value_counts()\n",
    "    indexes = counted.index[counted.apply(lambda x : (x<6))].values\n",
    "    print(file_name,\"gap:\",df.shape[0]-df.drop_duplicates(['ho','title']).shape[0]) #gap으로 중복여부확인\n",
    "    if len(indexes)>0:\n",
    "        print('이상치추가됨',indexes)\n",
    "        error_list.append(indexes)"
   ]
  },
  {
   "cell_type": "code",
   "execution_count": 4,
   "metadata": {
    "ExecuteTime": {
     "end_time": "2020-05-08T02:29:46.304449Z",
     "start_time": "2020-05-08T02:29:45.300586Z"
    }
   },
   "outputs": [
    {
     "name": "stdout",
     "output_type": "stream",
     "text": [
      "All_document(제101호-제92호).csv gap: 0\n",
      "All_document(제111호-제102호).csv gap: 0\n",
      "All_document(제121호-제112호).csv gap: 0\n",
      "All_document(제131호-제122호).csv gap: 0\n",
      "All_document(제141호-제132호).csv gap: 0\n",
      "All_document(제149호-제142호).csv gap: 0\n",
      "All_document(제159호-제150호).csv gap: 0\n",
      "All_document(제169호-제160호).csv gap: 0\n",
      "All_document(제179호-제170호).csv gap: 0\n",
      "All_document(제189호-제180호).csv gap: 0\n",
      "All_document(제199호-제190호).csv gap: 0\n",
      "All_document(제208호-제200호).csv gap: 0\n",
      "All_document(제218호-제209호).csv gap: 13\n",
      "All_document(제228호-제219호).csv gap: 0\n",
      "All_document(제238호-제229호).csv gap: 0\n",
      "All_document(제247호-제239호) (2).csv gap: 0\n",
      "All_document(제247호-제239호).csv gap: 0\n",
      "All_document(제257호-제248호) (2).csv gap: 0\n",
      "All_document(제257호-제248호).csv gap: 0\n",
      "All_document(제267호-제258호) (2).csv gap: 0\n",
      "All_document(제267호-제258호).csv gap: 0\n",
      "All_document(제276호-제268호) (2).csv gap: 0\n",
      "All_document(제276호-제268호).csv gap: 0\n",
      "All_document(제287호-제278호).csv gap: 0\n",
      "All_document(제297호-제288호).csv gap: 0\n",
      "All_document(제307호-제298호).csv gap: 0\n",
      "All_document(제317호-제308호).csv gap: 12\n",
      "All_document(제327호-제318호).csv gap: 9\n",
      "All_document(제337호-제328호).csv gap: 2\n",
      "All_document(제346호-제338호).csv gap: 0\n",
      "All_document(제356호-제347호).csv gap: 0\n",
      "All_document(제366호-제357호).csv gap: 1\n",
      "All_document(제376호-제367호).csv gap: 0\n",
      "All_document(제386호-제377호).csv gap: 0\n",
      "All_document(제396호-제387호).csv gap: 0\n",
      "All_document(제475호-제397호).csv gap: 1\n",
      "All_document(제91호-제02호).csv gap: 0\n",
      "All_document(제91호-제82호).csv gap: 0\n"
     ]
    }
   ],
   "source": [
    "error_list = []\n",
    "#처음\n",
    "one = pd.read_csv(path + file_list[0],index_col = 0)\n",
    "file_name = file_list[0]\n",
    "check_error(file_name,one)\n",
    "#이후\n",
    "for i in range(1,len(file_list)):\n",
    "    other = pd.read_csv(path + file_list[i],index_col = 0)\n",
    "    file_name = file_list[i]\n",
    "    check_error(file_name,other)\n",
    "    one = pd.concat([one,other])"
   ]
  },
  {
   "cell_type": "code",
   "execution_count": 5,
   "metadata": {
    "ExecuteTime": {
     "end_time": "2020-05-08T02:29:47.097665Z",
     "start_time": "2020-05-08T02:29:46.923586Z"
    }
   },
   "outputs": [],
   "source": [
    "one = one.drop_duplicates(['ho','title'])"
   ]
  },
  {
   "cell_type": "code",
   "execution_count": 6,
   "metadata": {
    "ExecuteTime": {
     "end_time": "2020-05-08T02:29:51.633379Z",
     "start_time": "2020-05-08T02:29:51.627378Z"
    }
   },
   "outputs": [
    {
     "data": {
      "text/plain": [
       "(6913, 6)"
      ]
     },
     "execution_count": 6,
     "metadata": {},
     "output_type": "execute_result"
    }
   ],
   "source": [
    "one.shape"
   ]
  },
  {
   "cell_type": "code",
   "execution_count": 7,
   "metadata": {
    "ExecuteTime": {
     "end_time": "2020-05-08T02:29:55.131950Z",
     "start_time": "2020-05-08T02:29:55.123948Z"
    }
   },
   "outputs": [
    {
     "data": {
      "text/plain": [
       "476"
      ]
     },
     "execution_count": 7,
     "metadata": {},
     "output_type": "execute_result"
    }
   ],
   "source": [
    "one = one.sort_values('dates')\n",
    "one.ho.nunique()"
   ]
  },
  {
   "cell_type": "code",
   "execution_count": 8,
   "metadata": {
    "ExecuteTime": {
     "end_time": "2020-05-08T02:30:08.917898Z",
     "start_time": "2020-05-08T02:30:08.741927Z"
    }
   },
   "outputs": [],
   "source": [
    "#저장\n",
    "one.to_csv('All_document_final.csv',index = False)"
   ]
  },
  {
   "cell_type": "code",
   "execution_count": 9,
   "metadata": {
    "ExecuteTime": {
     "end_time": "2020-05-08T02:30:18.490957Z",
     "start_time": "2020-05-08T02:30:18.484955Z"
    }
   },
   "outputs": [
    {
     "data": {
      "text/plain": [
       "제146호 문화특집    28\n",
       "제206호 특집      28\n",
       "제161호         28\n",
       "제222호         28\n",
       "제160호         28\n",
       "              ..\n",
       "제412호          6\n",
       "제382호          6\n",
       "제416호          6\n",
       "제454호          6\n",
       "제469호          6\n",
       "Name: ho, Length: 476, dtype: int64"
      ]
     },
     "execution_count": 9,
     "metadata": {},
     "output_type": "execute_result"
    }
   ],
   "source": [
    "one.ho.value_counts()"
   ]
  },
  {
   "cell_type": "markdown",
   "metadata": {},
   "source": [
    "### 이상치 쳐다보기"
   ]
  },
  {
   "cell_type": "code",
   "execution_count": 3,
   "metadata": {
    "ExecuteTime": {
     "end_time": "2020-05-08T07:38:16.685713Z",
     "start_time": "2020-05-08T07:38:16.661707Z"
    }
   },
   "outputs": [],
   "source": [
    "wrong = pd.read_csv(path + 'All_document(제01호-제475호).csv',index_col = 0)"
   ]
  },
  {
   "cell_type": "code",
   "execution_count": 5,
   "metadata": {
    "ExecuteTime": {
     "end_time": "2020-05-08T07:39:28.195047Z",
     "start_time": "2020-05-08T07:39:28.189046Z"
    }
   },
   "outputs": [
    {
     "data": {
      "text/plain": [
       "제01호     140\n",
       "제475호     16\n",
       "제474호     10\n",
       "제467호      9\n",
       "제468호      9\n",
       "제471호      8\n",
       "제472호      8\n",
       "제470호      6\n",
       "제473호      2\n",
       "제469호      1\n",
       "Name: ho, dtype: int64"
      ]
     },
     "execution_count": 5,
     "metadata": {},
     "output_type": "execute_result"
    }
   ],
   "source": [
    "wrong.ho.value_counts()"
   ]
  },
  {
   "cell_type": "code",
   "execution_count": 6,
   "metadata": {
    "ExecuteTime": {
     "end_time": "2020-05-08T07:39:31.377665Z",
     "start_time": "2020-05-08T07:39:31.372664Z"
    }
   },
   "outputs": [],
   "source": [
    "wrong_a = wrong.drop_duplicates('title')"
   ]
  },
  {
   "cell_type": "markdown",
   "metadata": {},
   "source": [
    "##### 특정호"
   ]
  },
  {
   "cell_type": "code",
   "execution_count": 31,
   "metadata": {
    "ExecuteTime": {
     "end_time": "2020-05-08T01:09:10.906158Z",
     "start_time": "2020-05-08T01:09:10.894155Z"
    },
    "scrolled": true
   },
   "outputs": [
    {
     "data": {
      "text/html": [
       "<div>\n",
       "<style scoped>\n",
       "    .dataframe tbody tr th:only-of-type {\n",
       "        vertical-align: middle;\n",
       "    }\n",
       "\n",
       "    .dataframe tbody tr th {\n",
       "        vertical-align: top;\n",
       "    }\n",
       "\n",
       "    .dataframe thead th {\n",
       "        text-align: right;\n",
       "    }\n",
       "</style>\n",
       "<table border=\"1\" class=\"dataframe\">\n",
       "  <thead>\n",
       "    <tr style=\"text-align: right;\">\n",
       "      <th></th>\n",
       "      <th>ho</th>\n",
       "      <th>dates</th>\n",
       "      <th>category</th>\n",
       "      <th>city</th>\n",
       "      <th>title</th>\n",
       "      <th>contents</th>\n",
       "    </tr>\n",
       "  </thead>\n",
       "  <tbody>\n",
       "    <tr>\n",
       "      <td>0</td>\n",
       "      <td>제218호</td>\n",
       "      <td>2010.04.20</td>\n",
       "      <td>218호(2009년 7월6일)_0.pdf</td>\n",
       "      <td>NaN</td>\n",
       "      <td>세계도시동향 제218호</td>\n",
       "      <td>['세계도시동향은 세계 대도시의 최신 정책동향을 담은 간행물입니다(월 2회 발간, ...</td>\n",
       "    </tr>\n",
       "    <tr>\n",
       "      <td>1</td>\n",
       "      <td>제218호</td>\n",
       "      <td>2009.07.06</td>\n",
       "      <td>문화/디자인</td>\n",
       "      <td>파리</td>\n",
       "      <td>지하철에서 사랑의 대화를 나눠요 (파리)</td>\n",
       "      <td>['○ 파리市는 ‘사랑의 대화’ 행사의 하나로 승객이 지하철역에서 사랑의 메시지를 ...</td>\n",
       "    </tr>\n",
       "    <tr>\n",
       "      <td>2</td>\n",
       "      <td>제218호</td>\n",
       "      <td>2009.07.06</td>\n",
       "      <td>문화/디자인</td>\n",
       "      <td>파리</td>\n",
       "      <td>자전거와 롤러스케이트 축제 개최 (파리)</td>\n",
       "      <td>['○ 파리市는 2009년 6월 7일 자전거와 롤러스케이트 축제를 개최함. 일 드 ...</td>\n",
       "    </tr>\n",
       "    <tr>\n",
       "      <td>3</td>\n",
       "      <td>제218호</td>\n",
       "      <td>2009.07.06</td>\n",
       "      <td>문화/디자인</td>\n",
       "      <td>독일</td>\n",
       "      <td>‘자전거 출근’ 여름 캠페인 (독일)</td>\n",
       "      <td>['○ 독일 최대의 의료보험회사인 AOK와 독일 자전거 클럽이 매년 실시하는 여름 ...</td>\n",
       "    </tr>\n",
       "    <tr>\n",
       "      <td>4</td>\n",
       "      <td>제218호</td>\n",
       "      <td>2009.07.06</td>\n",
       "      <td>문화/디자인</td>\n",
       "      <td>파리</td>\n",
       "      <td>지하철에서 사랑의 대화를 나눠요 (파리)</td>\n",
       "      <td>['○ 파리市는 ‘사랑의 대화’ 행사의 하나로 승객이 지하철역에서 사랑의 메시지를 ...</td>\n",
       "    </tr>\n",
       "    <tr>\n",
       "      <td>5</td>\n",
       "      <td>제218호</td>\n",
       "      <td>2009.07.06</td>\n",
       "      <td>문화/디자인</td>\n",
       "      <td>파리</td>\n",
       "      <td>자전거와 롤러스케이트 축제 개최 (파리)</td>\n",
       "      <td>['○ 파리市는 2009년 6월 7일 자전거와 롤러스케이트 축제를 개최함. 일 드 ...</td>\n",
       "    </tr>\n",
       "    <tr>\n",
       "      <td>6</td>\n",
       "      <td>제218호</td>\n",
       "      <td>2009.07.06</td>\n",
       "      <td>문화/디자인</td>\n",
       "      <td>독일</td>\n",
       "      <td>‘자전거 출근’ 여름 캠페인 (독일)</td>\n",
       "      <td>['○ 독일 최대의 의료보험회사인 AOK와 독일 자전거 클럽이 매년 실시하는 여름 ...</td>\n",
       "    </tr>\n",
       "    <tr>\n",
       "      <td>7</td>\n",
       "      <td>제218호</td>\n",
       "      <td>2009.07.06</td>\n",
       "      <td>산업/경제</td>\n",
       "      <td>뉴욕</td>\n",
       "      <td>경제 재활성화 대책 마련 (뉴욕)</td>\n",
       "      <td>['○ 뉴욕市가 최근 경기불황 타개책으로 ‘뉴욕 5개 지구 경제활성화 계획’(The...</td>\n",
       "    </tr>\n",
       "    <tr>\n",
       "      <td>8</td>\n",
       "      <td>제218호</td>\n",
       "      <td>2009.07.06</td>\n",
       "      <td>산업/경제</td>\n",
       "      <td>상하이</td>\n",
       "      <td>신에너지산업 투자로 풍력발전 최대 수혜 (상하이)</td>\n",
       "      <td>['○ 상하이市는 린강신청(?港新城) 산업단지에 중국 최대의 풍력발전설비 생산기지를...</td>\n",
       "    </tr>\n",
       "    <tr>\n",
       "      <td>9</td>\n",
       "      <td>제218호</td>\n",
       "      <td>2009.07.06</td>\n",
       "      <td>산업/경제</td>\n",
       "      <td>뉴욕</td>\n",
       "      <td>경제 재활성화 대책 마련 (뉴욕)</td>\n",
       "      <td>['○ 뉴욕市가 최근 경기불황 타개책으로 ‘뉴욕 5개 지구 경제활성화 계획’(The...</td>\n",
       "    </tr>\n",
       "    <tr>\n",
       "      <td>10</td>\n",
       "      <td>제218호</td>\n",
       "      <td>2009.07.06</td>\n",
       "      <td>산업/경제</td>\n",
       "      <td>상하이</td>\n",
       "      <td>신에너지산업 투자로 풍력발전 최대 수혜 (상하이)</td>\n",
       "      <td>['○ 상하이市는 린강신청(?港新城) 산업단지에 중국 최대의 풍력발전설비 생산기지를...</td>\n",
       "    </tr>\n",
       "    <tr>\n",
       "      <td>11</td>\n",
       "      <td>제218호</td>\n",
       "      <td>2009.07.06</td>\n",
       "      <td>건강/복지</td>\n",
       "      <td>노르트라인-베스트팔렌州</td>\n",
       "      <td>독일 최초로 전자 건강카드 도입 (독일 노르트라인-베스트팔렌州)</td>\n",
       "      <td>['○ 노르트라인-베스트팔렌州의 보쿰-에센 지역에서 독일 최초로 전자 건강카드가 도...</td>\n",
       "    </tr>\n",
       "    <tr>\n",
       "      <td>12</td>\n",
       "      <td>제218호</td>\n",
       "      <td>2009.07.06</td>\n",
       "      <td>건강/복지</td>\n",
       "      <td>런던</td>\n",
       "      <td>불필요한 예산 아껴 여성폭력대책센터에 대폭 지원 (런던)</td>\n",
       "      <td>['○ 불필요한 예산은 대폭 삭감하고 꼭 필요한 예산은 확대하겠다는 공약으로 당선된...</td>\n",
       "    </tr>\n",
       "    <tr>\n",
       "      <td>13</td>\n",
       "      <td>제218호</td>\n",
       "      <td>2009.07.06</td>\n",
       "      <td>건강/복지</td>\n",
       "      <td>상하이</td>\n",
       "      <td>지역 중심 사회복지 강화 (상하이)</td>\n",
       "      <td>['○ 상하이市는 지역구를 중심으로 학교, 가정, 사회를 잇는 교육시스템 망을 강화...</td>\n",
       "    </tr>\n",
       "    <tr>\n",
       "      <td>14</td>\n",
       "      <td>제218호</td>\n",
       "      <td>2009.07.06</td>\n",
       "      <td>건강/복지</td>\n",
       "      <td>노르트라인-베스트팔렌州</td>\n",
       "      <td>독일 최초로 전자 건강카드 도입 (독일 노르트라인-베스트팔렌州)</td>\n",
       "      <td>['○ 노르트라인-베스트팔렌州의 보쿰-에센 지역에서 독일 최초로 전자 건강카드가 도...</td>\n",
       "    </tr>\n",
       "    <tr>\n",
       "      <td>15</td>\n",
       "      <td>제218호</td>\n",
       "      <td>2009.07.06</td>\n",
       "      <td>건강/복지</td>\n",
       "      <td>런던</td>\n",
       "      <td>불필요한 예산 아껴 여성폭력대책센터에 대폭 지원 (런던)</td>\n",
       "      <td>['○ 불필요한 예산은 대폭 삭감하고 꼭 필요한 예산은 확대하겠다는 공약으로 당선된...</td>\n",
       "    </tr>\n",
       "    <tr>\n",
       "      <td>16</td>\n",
       "      <td>제218호</td>\n",
       "      <td>2009.07.06</td>\n",
       "      <td>건강/복지</td>\n",
       "      <td>상하이</td>\n",
       "      <td>지역 중심 사회복지 강화 (상하이)</td>\n",
       "      <td>['○ 상하이市는 지역구를 중심으로 학교, 가정, 사회를 잇는 교육시스템 망을 강화...</td>\n",
       "    </tr>\n",
       "    <tr>\n",
       "      <td>17</td>\n",
       "      <td>제218호</td>\n",
       "      <td>2010.11.03</td>\n",
       "      <td>건강/복지</td>\n",
       "      <td>뉴욕</td>\n",
       "      <td>청소년의 ‘시민 멘토’ 모집 (뉴욕)</td>\n",
       "      <td>['○ 뉴욕市는 市 교육위원회, 각 학군별 사무소와 함께 관내 학생의 방과 후 지도...</td>\n",
       "    </tr>\n",
       "    <tr>\n",
       "      <td>18</td>\n",
       "      <td>제218호</td>\n",
       "      <td>2010.11.03</td>\n",
       "      <td>건강/복지</td>\n",
       "      <td>캘리포니아州</td>\n",
       "      <td>보육시설 급식에도 아동비만 예방을 위한 최소 기준 적용 (캘리포니아州)</td>\n",
       "      <td>['○ 캘리포니아州 하원은 보육시설의 급식 식단 최소기준을 정하는 법안을 가결함.'...</td>\n",
       "    </tr>\n",
       "    <tr>\n",
       "      <td>19</td>\n",
       "      <td>제218호</td>\n",
       "      <td>2010.11.03</td>\n",
       "      <td>건강/복지</td>\n",
       "      <td>뉴욕</td>\n",
       "      <td>청소년의 ‘시민 멘토’ 모집 (뉴욕)</td>\n",
       "      <td>['○ 뉴욕市는 市 교육위원회, 각 학군별 사무소와 함께 관내 학생의 방과 후 지도...</td>\n",
       "    </tr>\n",
       "    <tr>\n",
       "      <td>20</td>\n",
       "      <td>제218호</td>\n",
       "      <td>2010.11.03</td>\n",
       "      <td>건강/복지</td>\n",
       "      <td>캘리포니아州</td>\n",
       "      <td>보육시설 급식에도 아동비만 예방을 위한 최소 기준 적용 (캘리포니아州)</td>\n",
       "      <td>['○ 캘리포니아州 하원은 보육시설의 급식 식단 최소기준을 정하는 법안을 가결함.'...</td>\n",
       "    </tr>\n",
       "    <tr>\n",
       "      <td>21</td>\n",
       "      <td>제218호</td>\n",
       "      <td>2009.07.06</td>\n",
       "      <td>행정/재정</td>\n",
       "      <td>베를린</td>\n",
       "      <td>회사 설립 절차를 간편하고 빠르게 (베를린)</td>\n",
       "      <td>['○ 베를린市는, 회사설립 허가를 받기 위해 여러 관청을 거쳐야 했던 불편을 해소...</td>\n",
       "    </tr>\n",
       "    <tr>\n",
       "      <td>22</td>\n",
       "      <td>제218호</td>\n",
       "      <td>2009.07.06</td>\n",
       "      <td>행정/재정</td>\n",
       "      <td>런던</td>\n",
       "      <td>도시 이미지 재브랜드화를 위한 홍보위원회 설치 (런던)</td>\n",
       "      <td>['○ 런던市는 런던의 재브랜드화를 촉진할 ‘홍보위원회’(Promote London...</td>\n",
       "    </tr>\n",
       "    <tr>\n",
       "      <td>23</td>\n",
       "      <td>제218호</td>\n",
       "      <td>2009.07.06</td>\n",
       "      <td>행정/재정</td>\n",
       "      <td>중국</td>\n",
       "      <td>주요 세금 징수 강화 (중국)</td>\n",
       "      <td>['○ 중국정부는 경기 부진으로 재정수입이 줄어들면서 세원 관리를 철저히 하고 있음...</td>\n",
       "    </tr>\n",
       "    <tr>\n",
       "      <td>24</td>\n",
       "      <td>제218호</td>\n",
       "      <td>2009.07.06</td>\n",
       "      <td>행정/재정</td>\n",
       "      <td>베를린</td>\n",
       "      <td>회사 설립 절차를 간편하고 빠르게 (베를린)</td>\n",
       "      <td>['○ 베를린市는, 회사설립 허가를 받기 위해 여러 관청을 거쳐야 했던 불편을 해소...</td>\n",
       "    </tr>\n",
       "    <tr>\n",
       "      <td>25</td>\n",
       "      <td>제218호</td>\n",
       "      <td>2009.07.06</td>\n",
       "      <td>행정/재정</td>\n",
       "      <td>런던</td>\n",
       "      <td>도시 이미지 재브랜드화를 위한 홍보위원회 설치 (런던)</td>\n",
       "      <td>['○ 런던市는 런던의 재브랜드화를 촉진할 ‘홍보위원회’(Promote London...</td>\n",
       "    </tr>\n",
       "    <tr>\n",
       "      <td>26</td>\n",
       "      <td>제218호</td>\n",
       "      <td>2009.07.06</td>\n",
       "      <td>행정/재정</td>\n",
       "      <td>중국</td>\n",
       "      <td>주요 세금 징수 강화 (중국)</td>\n",
       "      <td>['○ 중국정부는 경기 부진으로 재정수입이 줄어들면서 세원 관리를 철저히 하고 있음...</td>\n",
       "    </tr>\n",
       "    <tr>\n",
       "      <td>27</td>\n",
       "      <td>제218호</td>\n",
       "      <td>2009.07.06</td>\n",
       "      <td>방재/안전</td>\n",
       "      <td>미국</td>\n",
       "      <td>허리케인 피해자에게 제공한 임시주택을 1달러에 판매 (미국)</td>\n",
       "      <td>['○ 미국 남부지역을 강타한 두 번의 허리케인 피해로 연방재난관리청(FEMA : ...</td>\n",
       "    </tr>\n",
       "  </tbody>\n",
       "</table>\n",
       "</div>"
      ],
      "text/plain": [
       "       ho       dates                category          city  \\\n",
       "0   제218호  2010.04.20  218호(2009년 7월6일)_0.pdf           NaN   \n",
       "1   제218호  2009.07.06                  문화/디자인            파리   \n",
       "2   제218호  2009.07.06                  문화/디자인            파리   \n",
       "3   제218호  2009.07.06                  문화/디자인            독일   \n",
       "4   제218호  2009.07.06                  문화/디자인            파리   \n",
       "5   제218호  2009.07.06                  문화/디자인            파리   \n",
       "6   제218호  2009.07.06                  문화/디자인            독일   \n",
       "7   제218호  2009.07.06                   산업/경제            뉴욕   \n",
       "8   제218호  2009.07.06                   산업/경제           상하이   \n",
       "9   제218호  2009.07.06                   산업/경제            뉴욕   \n",
       "10  제218호  2009.07.06                   산업/경제           상하이   \n",
       "11  제218호  2009.07.06                   건강/복지  노르트라인-베스트팔렌州   \n",
       "12  제218호  2009.07.06                   건강/복지            런던   \n",
       "13  제218호  2009.07.06                   건강/복지           상하이   \n",
       "14  제218호  2009.07.06                   건강/복지  노르트라인-베스트팔렌州   \n",
       "15  제218호  2009.07.06                   건강/복지            런던   \n",
       "16  제218호  2009.07.06                   건강/복지           상하이   \n",
       "17  제218호  2010.11.03                   건강/복지            뉴욕   \n",
       "18  제218호  2010.11.03                   건강/복지        캘리포니아州   \n",
       "19  제218호  2010.11.03                   건강/복지            뉴욕   \n",
       "20  제218호  2010.11.03                   건강/복지        캘리포니아州   \n",
       "21  제218호  2009.07.06                   행정/재정           베를린   \n",
       "22  제218호  2009.07.06                   행정/재정            런던   \n",
       "23  제218호  2009.07.06                   행정/재정            중국   \n",
       "24  제218호  2009.07.06                   행정/재정           베를린   \n",
       "25  제218호  2009.07.06                   행정/재정            런던   \n",
       "26  제218호  2009.07.06                   행정/재정            중국   \n",
       "27  제218호  2009.07.06                   방재/안전            미국   \n",
       "\n",
       "                                      title  \\\n",
       "0                              세계도시동향 제218호   \n",
       "1                    지하철에서 사랑의 대화를 나눠요 (파리)   \n",
       "2                    자전거와 롤러스케이트 축제 개최 (파리)   \n",
       "3                      ‘자전거 출근’ 여름 캠페인 (독일)   \n",
       "4                    지하철에서 사랑의 대화를 나눠요 (파리)   \n",
       "5                    자전거와 롤러스케이트 축제 개최 (파리)   \n",
       "6                      ‘자전거 출근’ 여름 캠페인 (독일)   \n",
       "7                        경제 재활성화 대책 마련 (뉴욕)   \n",
       "8               신에너지산업 투자로 풍력발전 최대 수혜 (상하이)   \n",
       "9                        경제 재활성화 대책 마련 (뉴욕)   \n",
       "10              신에너지산업 투자로 풍력발전 최대 수혜 (상하이)   \n",
       "11      독일 최초로 전자 건강카드 도입 (독일 노르트라인-베스트팔렌州)   \n",
       "12          불필요한 예산 아껴 여성폭력대책센터에 대폭 지원 (런던)   \n",
       "13                      지역 중심 사회복지 강화 (상하이)   \n",
       "14      독일 최초로 전자 건강카드 도입 (독일 노르트라인-베스트팔렌州)   \n",
       "15          불필요한 예산 아껴 여성폭력대책센터에 대폭 지원 (런던)   \n",
       "16                      지역 중심 사회복지 강화 (상하이)   \n",
       "17                     청소년의 ‘시민 멘토’ 모집 (뉴욕)   \n",
       "18  보육시설 급식에도 아동비만 예방을 위한 최소 기준 적용 (캘리포니아州)   \n",
       "19                     청소년의 ‘시민 멘토’ 모집 (뉴욕)   \n",
       "20  보육시설 급식에도 아동비만 예방을 위한 최소 기준 적용 (캘리포니아州)   \n",
       "21                 회사 설립 절차를 간편하고 빠르게 (베를린)   \n",
       "22           도시 이미지 재브랜드화를 위한 홍보위원회 설치 (런던)   \n",
       "23                         주요 세금 징수 강화 (중국)   \n",
       "24                 회사 설립 절차를 간편하고 빠르게 (베를린)   \n",
       "25           도시 이미지 재브랜드화를 위한 홍보위원회 설치 (런던)   \n",
       "26                         주요 세금 징수 강화 (중국)   \n",
       "27        허리케인 피해자에게 제공한 임시주택을 1달러에 판매 (미국)   \n",
       "\n",
       "                                             contents  \n",
       "0   ['세계도시동향은 세계 대도시의 최신 정책동향을 담은 간행물입니다(월 2회 발간, ...  \n",
       "1   ['○ 파리市는 ‘사랑의 대화’ 행사의 하나로 승객이 지하철역에서 사랑의 메시지를 ...  \n",
       "2   ['○ 파리市는 2009년 6월 7일 자전거와 롤러스케이트 축제를 개최함. 일 드 ...  \n",
       "3   ['○ 독일 최대의 의료보험회사인 AOK와 독일 자전거 클럽이 매년 실시하는 여름 ...  \n",
       "4   ['○ 파리市는 ‘사랑의 대화’ 행사의 하나로 승객이 지하철역에서 사랑의 메시지를 ...  \n",
       "5   ['○ 파리市는 2009년 6월 7일 자전거와 롤러스케이트 축제를 개최함. 일 드 ...  \n",
       "6   ['○ 독일 최대의 의료보험회사인 AOK와 독일 자전거 클럽이 매년 실시하는 여름 ...  \n",
       "7   ['○ 뉴욕市가 최근 경기불황 타개책으로 ‘뉴욕 5개 지구 경제활성화 계획’(The...  \n",
       "8   ['○ 상하이市는 린강신청(?港新城) 산업단지에 중국 최대의 풍력발전설비 생산기지를...  \n",
       "9   ['○ 뉴욕市가 최근 경기불황 타개책으로 ‘뉴욕 5개 지구 경제활성화 계획’(The...  \n",
       "10  ['○ 상하이市는 린강신청(?港新城) 산업단지에 중국 최대의 풍력발전설비 생산기지를...  \n",
       "11  ['○ 노르트라인-베스트팔렌州의 보쿰-에센 지역에서 독일 최초로 전자 건강카드가 도...  \n",
       "12  ['○ 불필요한 예산은 대폭 삭감하고 꼭 필요한 예산은 확대하겠다는 공약으로 당선된...  \n",
       "13  ['○ 상하이市는 지역구를 중심으로 학교, 가정, 사회를 잇는 교육시스템 망을 강화...  \n",
       "14  ['○ 노르트라인-베스트팔렌州의 보쿰-에센 지역에서 독일 최초로 전자 건강카드가 도...  \n",
       "15  ['○ 불필요한 예산은 대폭 삭감하고 꼭 필요한 예산은 확대하겠다는 공약으로 당선된...  \n",
       "16  ['○ 상하이市는 지역구를 중심으로 학교, 가정, 사회를 잇는 교육시스템 망을 강화...  \n",
       "17  ['○ 뉴욕市는 市 교육위원회, 각 학군별 사무소와 함께 관내 학생의 방과 후 지도...  \n",
       "18  ['○ 캘리포니아州 하원은 보육시설의 급식 식단 최소기준을 정하는 법안을 가결함.'...  \n",
       "19  ['○ 뉴욕市는 市 교육위원회, 각 학군별 사무소와 함께 관내 학생의 방과 후 지도...  \n",
       "20  ['○ 캘리포니아州 하원은 보육시설의 급식 식단 최소기준을 정하는 법안을 가결함.'...  \n",
       "21  ['○ 베를린市는, 회사설립 허가를 받기 위해 여러 관청을 거쳐야 했던 불편을 해소...  \n",
       "22  ['○ 런던市는 런던의 재브랜드화를 촉진할 ‘홍보위원회’(Promote London...  \n",
       "23  ['○ 중국정부는 경기 부진으로 재정수입이 줄어들면서 세원 관리를 철저히 하고 있음...  \n",
       "24  ['○ 베를린市는, 회사설립 허가를 받기 위해 여러 관청을 거쳐야 했던 불편을 해소...  \n",
       "25  ['○ 런던市는 런던의 재브랜드화를 촉진할 ‘홍보위원회’(Promote London...  \n",
       "26  ['○ 중국정부는 경기 부진으로 재정수입이 줄어들면서 세원 관리를 철저히 하고 있음...  \n",
       "27  ['○ 미국 남부지역을 강타한 두 번의 허리케인 피해로 연방재난관리청(FEMA : ...  "
      ]
     },
     "execution_count": 31,
     "metadata": {},
     "output_type": "execute_result"
    }
   ],
   "source": [
    "wrong[wrong.ho == '제218호']"
   ]
  },
  {
   "cell_type": "code",
   "execution_count": 24,
   "metadata": {
    "ExecuteTime": {
     "end_time": "2020-05-08T01:04:13.304112Z",
     "start_time": "2020-05-08T01:04:13.295110Z"
    },
    "scrolled": true
   },
   "outputs": [
    {
     "data": {
      "text/html": [
       "<div>\n",
       "<style scoped>\n",
       "    .dataframe tbody tr th:only-of-type {\n",
       "        vertical-align: middle;\n",
       "    }\n",
       "\n",
       "    .dataframe tbody tr th {\n",
       "        vertical-align: top;\n",
       "    }\n",
       "\n",
       "    .dataframe thead th {\n",
       "        text-align: right;\n",
       "    }\n",
       "</style>\n",
       "<table border=\"1\" class=\"dataframe\">\n",
       "  <thead>\n",
       "    <tr style=\"text-align: right;\">\n",
       "      <th></th>\n",
       "      <th>ho</th>\n",
       "      <th>dates</th>\n",
       "      <th>category</th>\n",
       "      <th>city</th>\n",
       "      <th>title</th>\n",
       "      <th>contents</th>\n",
       "    </tr>\n",
       "  </thead>\n",
       "  <tbody>\n",
       "    <tr>\n",
       "      <td>92</td>\n",
       "      <td>제320호</td>\n",
       "      <td>2013.10.08</td>\n",
       "      <td>헤드라인뉴스도시교통</td>\n",
       "      <td>등</td>\n",
       "      <td>복잡한 도심, 좁은 도로에 적합한 화물 배송시스템 개발 (프랑스 리옹市 등)</td>\n",
       "      <td>['○ 유럽의 많은 도시들은 도심에 좁고 오래된 도로가 많아 화물 배송에 어려움을 ...</td>\n",
       "    </tr>\n",
       "    <tr>\n",
       "      <td>93</td>\n",
       "      <td>제320호</td>\n",
       "      <td>2013.10.08</td>\n",
       "      <td>산업/경제</td>\n",
       "      <td>파리市</td>\n",
       "      <td>프랑스 디지털산업 발전을 선도할 세계 최대 규모의 창업 인큐베이팅센터 설립 계획 (...</td>\n",
       "      <td>['○  파리市는 파리 13구에 자리한 프레시네(Freyssinet) 건물을 리노베...</td>\n",
       "    </tr>\n",
       "    <tr>\n",
       "      <td>94</td>\n",
       "      <td>제320호</td>\n",
       "      <td>2013.10.08</td>\n",
       "      <td>사회/복지</td>\n",
       "      <td>뉴욕市</td>\n",
       "      <td>지역 예술가와 연계한 노인예술활동지원 프로그램, ‘SPARC’ 시행 (뉴욕市)</td>\n",
       "      <td>['○  뉴욕市는 노인들이 해당 지역사회에서 양질의 삶을 영위하고, 다양한 활동을 ...</td>\n",
       "    </tr>\n",
       "    <tr>\n",
       "      <td>95</td>\n",
       "      <td>제320호</td>\n",
       "      <td>2013.10.08</td>\n",
       "      <td>사회/복지</td>\n",
       "      <td>도쿄都</td>\n",
       "      <td>생활습관병의 예방 및 생활습관 개선을 위해 “건강추진 플랜 21” 수립 및 팸플릿 ...</td>\n",
       "      <td>['○  도쿄都 보건복지국은 도민들의 생활습관병 예방 및 생활습관 개선을 위해 20...</td>\n",
       "    </tr>\n",
       "    <tr>\n",
       "      <td>96</td>\n",
       "      <td>제320호</td>\n",
       "      <td>2013.10.08</td>\n",
       "      <td>사회/복지</td>\n",
       "      <td>도쿄都</td>\n",
       "      <td>“장애인 고용․취업 추진 연계 프로그램 2013” 수립 (도쿄都)</td>\n",
       "      <td>['○  도쿄都 복지보건국과 산업노동국은 최근 공동으로 “장애인 고용․취업 추진 연...</td>\n",
       "    </tr>\n",
       "    <tr>\n",
       "      <td>97</td>\n",
       "      <td>제320호</td>\n",
       "      <td>2013.10.08</td>\n",
       "      <td>사회/복지</td>\n",
       "      <td>교토府</td>\n",
       "      <td>정신건강 체크시스템인 ‘마음의 온도계’ 사이트 개설 (일본 교토府)</td>\n",
       "      <td>['○  교토府는 9월 10일부터 시작된 자살예방주간을 맞이하여, 2013년 9월 ...</td>\n",
       "    </tr>\n",
       "    <tr>\n",
       "      <td>98</td>\n",
       "      <td>제320호</td>\n",
       "      <td>2013.10.08</td>\n",
       "      <td>행재정/교육</td>\n",
       "      <td>독일</td>\n",
       "      <td>소비교육을 학교 교과과목으로 편입하기 위해 수업아이디어 공모전 실시 (독일)</td>\n",
       "      <td>['○  독일 연방정부는 소비교육을 소비정책의 중심과제 중 하나로 선정하고, 201...</td>\n",
       "    </tr>\n",
       "    <tr>\n",
       "      <td>99</td>\n",
       "      <td>제320호</td>\n",
       "      <td>2013.10.08</td>\n",
       "      <td>행재정/교육</td>\n",
       "      <td>뉴욕市</td>\n",
       "      <td>도심 주요 호텔의 물사용량 줄이기 프로그램 시행 (뉴욕市)</td>\n",
       "      <td>['○  뉴욕市 환경보호국은 장기적으로 수자원 지속가능성을 확보하기 위해 도심 주요...</td>\n",
       "    </tr>\n",
       "    <tr>\n",
       "      <td>100</td>\n",
       "      <td>제320호</td>\n",
       "      <td>2013.10.08</td>\n",
       "      <td>환경/안전</td>\n",
       "      <td>교토市</td>\n",
       "      <td>도심에서 꿀벌정원 추진 프로젝트 실시 (일본 교토市)</td>\n",
       "      <td>['○  교토市 나카교區는 교토市 11개區 중 녹지가 가장 적은 區로, 구내 가정과...</td>\n",
       "    </tr>\n",
       "    <tr>\n",
       "      <td>101</td>\n",
       "      <td>제320호</td>\n",
       "      <td>2013.10.08</td>\n",
       "      <td>환경/안전</td>\n",
       "      <td>유타州</td>\n",
       "      <td>공기 청정도 경보의 역효과 (미국 유타州)</td>\n",
       "      <td>['○ 유타州는 솔트레이크(Salt Lake)의 안개로 인해 미국 내에서 공기 청정...</td>\n",
       "    </tr>\n",
       "    <tr>\n",
       "      <td>103</td>\n",
       "      <td>제320호</td>\n",
       "      <td>2013.10.08</td>\n",
       "      <td>도시교통</td>\n",
       "      <td>뉴욕市</td>\n",
       "      <td>구체적인 운행자료를 수집하기 위해 파일럿 운전자 프로그램 시행 (뉴욕市)</td>\n",
       "      <td>['  ○ 뉴욕市는 에너지 효율적이고 사고가 적은 운전행태를 연구하기 위해 500대...</td>\n",
       "    </tr>\n",
       "    <tr>\n",
       "      <td>104</td>\n",
       "      <td>제320호</td>\n",
       "      <td>2013.10.08</td>\n",
       "      <td>도시교통</td>\n",
       "      <td>보스턴市</td>\n",
       "      <td>미국 최초로 헬멧 대여하는 자동 판매기 설치 (미국 보스턴市)</td>\n",
       "      <td>['○ 보스턴市는 2012년 여름부터 자전거 공유 프로그램인 Hubway를 시행하고...</td>\n",
       "    </tr>\n",
       "    <tr>\n",
       "      <td>105</td>\n",
       "      <td>제320호</td>\n",
       "      <td>2013.10.08</td>\n",
       "      <td>도시교통</td>\n",
       "      <td>캘리포니아州</td>\n",
       "      <td>카셰어링 서비스에 대한 법적 보호 장치 마련 (미국 캘리포니아州)</td>\n",
       "      <td>['○ 캘리포니아州는 최근 승용차 공유제 어플리케이션(ridesharing appl...</td>\n",
       "    </tr>\n",
       "    <tr>\n",
       "      <td>106</td>\n",
       "      <td>제320호</td>\n",
       "      <td>2013.10.08</td>\n",
       "      <td>도시교통</td>\n",
       "      <td>미국</td>\n",
       "      <td>BRT와 Streetcar의 경제적 파급 효과 (미국)</td>\n",
       "      <td>['○ 시정 공무원들은 대중교통이 도시 내 이동수단을 제공할 뿐만 아니라 도시 내 ...</td>\n",
       "    </tr>\n",
       "  </tbody>\n",
       "</table>\n",
       "</div>"
      ],
      "text/plain": [
       "        ho       dates    category    city  \\\n",
       "92   제320호  2013.10.08  헤드라인뉴스도시교통       등   \n",
       "93   제320호  2013.10.08       산업/경제     파리市   \n",
       "94   제320호  2013.10.08       사회/복지     뉴욕市   \n",
       "95   제320호  2013.10.08       사회/복지     도쿄都   \n",
       "96   제320호  2013.10.08       사회/복지     도쿄都   \n",
       "97   제320호  2013.10.08       사회/복지     교토府   \n",
       "98   제320호  2013.10.08      행재정/교육      독일   \n",
       "99   제320호  2013.10.08      행재정/교육     뉴욕市   \n",
       "100  제320호  2013.10.08       환경/안전     교토市   \n",
       "101  제320호  2013.10.08       환경/안전     유타州   \n",
       "103  제320호  2013.10.08        도시교통     뉴욕市   \n",
       "104  제320호  2013.10.08        도시교통    보스턴市   \n",
       "105  제320호  2013.10.08        도시교통  캘리포니아州   \n",
       "106  제320호  2013.10.08        도시교통      미국   \n",
       "\n",
       "                                                 title  \\\n",
       "92          복잡한 도심, 좁은 도로에 적합한 화물 배송시스템 개발 (프랑스 리옹市 등)   \n",
       "93   프랑스 디지털산업 발전을 선도할 세계 최대 규모의 창업 인큐베이팅센터 설립 계획 (...   \n",
       "94         지역 예술가와 연계한 노인예술활동지원 프로그램, ‘SPARC’ 시행 (뉴욕市)   \n",
       "95   생활습관병의 예방 및 생활습관 개선을 위해 “건강추진 플랜 21” 수립 및 팸플릿 ...   \n",
       "96                “장애인 고용․취업 추진 연계 프로그램 2013” 수립 (도쿄都)   \n",
       "97               정신건강 체크시스템인 ‘마음의 온도계’ 사이트 개설 (일본 교토府)   \n",
       "98          소비교육을 학교 교과과목으로 편입하기 위해 수업아이디어 공모전 실시 (독일)   \n",
       "99                    도심 주요 호텔의 물사용량 줄이기 프로그램 시행 (뉴욕市)   \n",
       "100                      도심에서 꿀벌정원 추진 프로젝트 실시 (일본 교토市)   \n",
       "101                            공기 청정도 경보의 역효과 (미국 유타州)   \n",
       "103           구체적인 운행자료를 수집하기 위해 파일럿 운전자 프로그램 시행 (뉴욕市)   \n",
       "104                 미국 최초로 헬멧 대여하는 자동 판매기 설치 (미국 보스턴市)   \n",
       "105               카셰어링 서비스에 대한 법적 보호 장치 마련 (미국 캘리포니아州)   \n",
       "106                     BRT와 Streetcar의 경제적 파급 효과 (미국)   \n",
       "\n",
       "                                              contents  \n",
       "92   ['○ 유럽의 많은 도시들은 도심에 좁고 오래된 도로가 많아 화물 배송에 어려움을 ...  \n",
       "93   ['○  파리市는 파리 13구에 자리한 프레시네(Freyssinet) 건물을 리노베...  \n",
       "94   ['○  뉴욕市는 노인들이 해당 지역사회에서 양질의 삶을 영위하고, 다양한 활동을 ...  \n",
       "95   ['○  도쿄都 보건복지국은 도민들의 생활습관병 예방 및 생활습관 개선을 위해 20...  \n",
       "96   ['○  도쿄都 복지보건국과 산업노동국은 최근 공동으로 “장애인 고용․취업 추진 연...  \n",
       "97   ['○  교토府는 9월 10일부터 시작된 자살예방주간을 맞이하여, 2013년 9월 ...  \n",
       "98   ['○  독일 연방정부는 소비교육을 소비정책의 중심과제 중 하나로 선정하고, 201...  \n",
       "99   ['○  뉴욕市 환경보호국은 장기적으로 수자원 지속가능성을 확보하기 위해 도심 주요...  \n",
       "100  ['○  교토市 나카교區는 교토市 11개區 중 녹지가 가장 적은 區로, 구내 가정과...  \n",
       "101  ['○ 유타州는 솔트레이크(Salt Lake)의 안개로 인해 미국 내에서 공기 청정...  \n",
       "103  ['  ○ 뉴욕市는 에너지 효율적이고 사고가 적은 운전행태를 연구하기 위해 500대...  \n",
       "104  ['○ 보스턴市는 2012년 여름부터 자전거 공유 프로그램인 Hubway를 시행하고...  \n",
       "105  ['○ 캘리포니아州는 최근 승용차 공유제 어플리케이션(ridesharing appl...  \n",
       "106  ['○ 시정 공무원들은 대중교통이 도시 내 이동수단을 제공할 뿐만 아니라 도시 내 ...  "
      ]
     },
     "execution_count": 24,
     "metadata": {},
     "output_type": "execute_result"
    }
   ],
   "source": [
    "wrong_a[wrong_a.ho == '제320호']"
   ]
  },
  {
   "cell_type": "code",
   "execution_count": 42,
   "metadata": {
    "ExecuteTime": {
     "end_time": "2020-05-08T02:00:03.610641Z",
     "start_time": "2020-05-08T02:00:03.579634Z"
    }
   },
   "outputs": [],
   "source": [
    "wrong = pd.read_csv(path + 'All_document(제317호-제308호).csv',index_col = 0)"
   ]
  },
  {
   "cell_type": "code",
   "execution_count": 43,
   "metadata": {
    "ExecuteTime": {
     "end_time": "2020-05-08T02:00:03.866700Z",
     "start_time": "2020-05-08T02:00:03.861698Z"
    }
   },
   "outputs": [
    {
     "data": {
      "text/plain": [
       "제309호    23\n",
       "제313호    16\n",
       "제310호    14\n",
       "제311호    14\n",
       "제316호    14\n",
       "제314호    14\n",
       "제312호    13\n",
       "제315호    13\n",
       "제317호    12\n",
       "제308호    10\n",
       "Name: ho, dtype: int64"
      ]
     },
     "execution_count": 43,
     "metadata": {},
     "output_type": "execute_result"
    }
   ],
   "source": [
    "wrong.ho.value_counts()"
   ]
  },
  {
   "cell_type": "code",
   "execution_count": 44,
   "metadata": {
    "ExecuteTime": {
     "end_time": "2020-05-08T02:00:04.358811Z",
     "start_time": "2020-05-08T02:00:04.325804Z"
    }
   },
   "outputs": [],
   "source": [
    "wrong = pd.read_csv('All_document(제317호-제308호).csv',index_col = 0)"
   ]
  },
  {
   "cell_type": "code",
   "execution_count": 45,
   "metadata": {
    "ExecuteTime": {
     "end_time": "2020-05-08T02:00:04.618870Z",
     "start_time": "2020-05-08T02:00:04.613869Z"
    }
   },
   "outputs": [
    {
     "data": {
      "text/plain": [
       "제309호    23\n",
       "제313호    16\n",
       "제310호    14\n",
       "제311호    14\n",
       "제316호    14\n",
       "제314호    14\n",
       "제312호    13\n",
       "제315호    13\n",
       "제317호    12\n",
       "제308호    10\n",
       "Name: ho, dtype: int64"
      ]
     },
     "execution_count": 45,
     "metadata": {},
     "output_type": "execute_result"
    }
   ],
   "source": [
    "wrong.ho.value_counts()"
   ]
  },
  {
   "cell_type": "code",
   "execution_count": null,
   "metadata": {},
   "outputs": [],
   "source": []
  }
 ],
 "metadata": {
  "kernelspec": {
   "display_name": "Python 3",
   "language": "python",
   "name": "python3"
  },
  "language_info": {
   "codemirror_mode": {
    "name": "ipython",
    "version": 3
   },
   "file_extension": ".py",
   "mimetype": "text/x-python",
   "name": "python",
   "nbconvert_exporter": "python",
   "pygments_lexer": "ipython3",
   "version": "3.6.5"
  },
  "varInspector": {
   "cols": {
    "lenName": 16,
    "lenType": 16,
    "lenVar": 40
   },
   "kernels_config": {
    "python": {
     "delete_cmd_postfix": "",
     "delete_cmd_prefix": "del ",
     "library": "var_list.py",
     "varRefreshCmd": "print(var_dic_list())"
    },
    "r": {
     "delete_cmd_postfix": ") ",
     "delete_cmd_prefix": "rm(",
     "library": "var_list.r",
     "varRefreshCmd": "cat(var_dic_list()) "
    }
   },
   "types_to_exclude": [
    "module",
    "function",
    "builtin_function_or_method",
    "instance",
    "_Feature"
   ],
   "window_display": false
  }
 },
 "nbformat": 4,
 "nbformat_minor": 2
}
